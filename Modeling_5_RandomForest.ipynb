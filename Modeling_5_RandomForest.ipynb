{
 "cells": [
  {
   "cell_type": "markdown",
   "id": "b9a93281",
   "metadata": {},
   "source": [
    "## Introduction"
   ]
  },
  {
   "cell_type": "markdown",
   "id": "2703e8b3",
   "metadata": {},
   "source": [
    "For this journal we will attempt and fine tune a Random Forest Classifier to better detect sarcasm. We will continue to use the edited dataset from the previous journals, as well as use a TF-IDF vectorizer again."
   ]
  },
  {
   "cell_type": "markdown",
   "id": "d7501fad",
   "metadata": {},
   "source": [
    "First we will import our libraries"
   ]
  },
  {
   "cell_type": "code",
   "execution_count": 1,
   "id": "a42e3f63",
   "metadata": {},
   "outputs": [],
   "source": [
    "import numpy as np\n",
    "import pandas as pd\n",
    "import matplotlib.pyplot as plt\n",
    "import seaborn as sns\n",
    "from sklearn.linear_model import LogisticRegression\n",
    "from sklearn.model_selection import train_test_split\n",
    "import string\n",
    "import nltk\n",
    "from sklearn.preprocessing import StandardScaler\n",
    "from sklearn.preprocessing import MinMaxScaler\n",
    "from sklearn.tree import DecisionTreeClassifier\n",
    "from sklearn.metrics import classification_report\n",
    "from sklearn.metrics import f1_score\n",
    "from sklearn.metrics import recall_score\n",
    "from sklearn.metrics import precision_score\n",
    "from sklearn.metrics import confusion_matrix, ConfusionMatrixDisplay\n",
    "import nltk\n",
    "from nltk.corpus import stopwords\n",
    "from nltk.tokenize import word_tokenize\n",
    "from nltk.stem import PorterStemmer\n",
    "from nltk.stem import WordNetLemmatizer\n",
    "from sklearn.feature_extraction.text import TfidfVectorizer\n",
    "from sklearn.ensemble import RandomForestClassifier\n",
    "from sklearn.model_selection import GridSearchCV"
   ]
  },
  {
   "cell_type": "markdown",
   "id": "ff51fc3d",
   "metadata": {},
   "source": [
    "Then the dataset"
   ]
  },
  {
   "cell_type": "code",
   "execution_count": 2,
   "id": "d7d4e9fb",
   "metadata": {},
   "outputs": [],
   "source": [
    "df = pd.read_csv('/Users/lokikeeler/Downloads/train-balanced-sarcasm_2.csv')"
   ]
  },
  {
   "cell_type": "code",
   "execution_count": 3,
   "id": "ffc96770",
   "metadata": {},
   "outputs": [
    {
     "data": {
      "text/html": [
       "<div>\n",
       "<style scoped>\n",
       "    .dataframe tbody tr th:only-of-type {\n",
       "        vertical-align: middle;\n",
       "    }\n",
       "\n",
       "    .dataframe tbody tr th {\n",
       "        vertical-align: top;\n",
       "    }\n",
       "\n",
       "    .dataframe thead th {\n",
       "        text-align: right;\n",
       "    }\n",
       "</style>\n",
       "<table border=\"1\" class=\"dataframe\">\n",
       "  <thead>\n",
       "    <tr style=\"text-align: right;\">\n",
       "      <th></th>\n",
       "      <th>label</th>\n",
       "      <th>comment</th>\n",
       "      <th>score</th>\n",
       "      <th>ups</th>\n",
       "      <th>downs</th>\n",
       "      <th>date</th>\n",
       "      <th>created_utc</th>\n",
       "      <th>parent_comment</th>\n",
       "      <th>year</th>\n",
       "      <th>SUB_2007scape</th>\n",
       "      <th>...</th>\n",
       "      <th>SUB_television</th>\n",
       "      <th>SUB_tf2</th>\n",
       "      <th>SUB_todayilearned</th>\n",
       "      <th>SUB_trees</th>\n",
       "      <th>SUB_ukpolitics</th>\n",
       "      <th>SUB_unitedkingdom</th>\n",
       "      <th>SUB_videos</th>\n",
       "      <th>SUB_worldnews</th>\n",
       "      <th>SUB_wow</th>\n",
       "      <th>SUB_xboxone</th>\n",
       "    </tr>\n",
       "  </thead>\n",
       "  <tbody>\n",
       "    <tr>\n",
       "      <th>0</th>\n",
       "      <td>0</td>\n",
       "      <td>NC and NH.</td>\n",
       "      <td>2</td>\n",
       "      <td>-1</td>\n",
       "      <td>-1</td>\n",
       "      <td>2016-10-01</td>\n",
       "      <td>2016-10-16 23:55:23</td>\n",
       "      <td>Yeah, I get that argument. At this point, I'd ...</td>\n",
       "      <td>2016</td>\n",
       "      <td>False</td>\n",
       "      <td>...</td>\n",
       "      <td>False</td>\n",
       "      <td>False</td>\n",
       "      <td>False</td>\n",
       "      <td>False</td>\n",
       "      <td>False</td>\n",
       "      <td>False</td>\n",
       "      <td>False</td>\n",
       "      <td>False</td>\n",
       "      <td>False</td>\n",
       "      <td>False</td>\n",
       "    </tr>\n",
       "    <tr>\n",
       "      <th>1</th>\n",
       "      <td>0</td>\n",
       "      <td>You do know west teams play against west teams...</td>\n",
       "      <td>-4</td>\n",
       "      <td>-1</td>\n",
       "      <td>-1</td>\n",
       "      <td>2016-11-01</td>\n",
       "      <td>2016-11-01 00:24:10</td>\n",
       "      <td>The blazers and Mavericks (The wests 5 and 6 s...</td>\n",
       "      <td>2016</td>\n",
       "      <td>False</td>\n",
       "      <td>...</td>\n",
       "      <td>False</td>\n",
       "      <td>False</td>\n",
       "      <td>False</td>\n",
       "      <td>False</td>\n",
       "      <td>False</td>\n",
       "      <td>False</td>\n",
       "      <td>False</td>\n",
       "      <td>False</td>\n",
       "      <td>False</td>\n",
       "      <td>False</td>\n",
       "    </tr>\n",
       "    <tr>\n",
       "      <th>2</th>\n",
       "      <td>0</td>\n",
       "      <td>They were underdogs earlier today, but since G...</td>\n",
       "      <td>3</td>\n",
       "      <td>3</td>\n",
       "      <td>0</td>\n",
       "      <td>2016-09-01</td>\n",
       "      <td>2016-09-22 21:45:37</td>\n",
       "      <td>They're favored to win.</td>\n",
       "      <td>2016</td>\n",
       "      <td>False</td>\n",
       "      <td>...</td>\n",
       "      <td>False</td>\n",
       "      <td>False</td>\n",
       "      <td>False</td>\n",
       "      <td>False</td>\n",
       "      <td>False</td>\n",
       "      <td>False</td>\n",
       "      <td>False</td>\n",
       "      <td>False</td>\n",
       "      <td>False</td>\n",
       "      <td>False</td>\n",
       "    </tr>\n",
       "    <tr>\n",
       "      <th>3</th>\n",
       "      <td>0</td>\n",
       "      <td>This meme isn't funny none of the \"new york ni...</td>\n",
       "      <td>-8</td>\n",
       "      <td>-1</td>\n",
       "      <td>-1</td>\n",
       "      <td>2016-10-01</td>\n",
       "      <td>2016-10-18 21:03:47</td>\n",
       "      <td>deadass don't kill my buzz</td>\n",
       "      <td>2016</td>\n",
       "      <td>False</td>\n",
       "      <td>...</td>\n",
       "      <td>False</td>\n",
       "      <td>False</td>\n",
       "      <td>False</td>\n",
       "      <td>False</td>\n",
       "      <td>False</td>\n",
       "      <td>False</td>\n",
       "      <td>False</td>\n",
       "      <td>False</td>\n",
       "      <td>False</td>\n",
       "      <td>False</td>\n",
       "    </tr>\n",
       "    <tr>\n",
       "      <th>4</th>\n",
       "      <td>0</td>\n",
       "      <td>I don't pay attention to her, but as long as s...</td>\n",
       "      <td>0</td>\n",
       "      <td>0</td>\n",
       "      <td>0</td>\n",
       "      <td>2016-09-01</td>\n",
       "      <td>2016-09-02 10:35:08</td>\n",
       "      <td>do you find ariana grande sexy ?</td>\n",
       "      <td>2016</td>\n",
       "      <td>False</td>\n",
       "      <td>...</td>\n",
       "      <td>False</td>\n",
       "      <td>False</td>\n",
       "      <td>False</td>\n",
       "      <td>False</td>\n",
       "      <td>False</td>\n",
       "      <td>False</td>\n",
       "      <td>False</td>\n",
       "      <td>False</td>\n",
       "      <td>False</td>\n",
       "      <td>False</td>\n",
       "    </tr>\n",
       "  </tbody>\n",
       "</table>\n",
       "<p>5 rows × 109 columns</p>\n",
       "</div>"
      ],
      "text/plain": [
       "   label                                            comment  score  ups  \\\n",
       "0      0                                         NC and NH.      2   -1   \n",
       "1      0  You do know west teams play against west teams...     -4   -1   \n",
       "2      0  They were underdogs earlier today, but since G...      3    3   \n",
       "3      0  This meme isn't funny none of the \"new york ni...     -8   -1   \n",
       "4      0  I don't pay attention to her, but as long as s...      0    0   \n",
       "\n",
       "   downs        date          created_utc  \\\n",
       "0     -1  2016-10-01  2016-10-16 23:55:23   \n",
       "1     -1  2016-11-01  2016-11-01 00:24:10   \n",
       "2      0  2016-09-01  2016-09-22 21:45:37   \n",
       "3     -1  2016-10-01  2016-10-18 21:03:47   \n",
       "4      0  2016-09-01  2016-09-02 10:35:08   \n",
       "\n",
       "                                      parent_comment  year  SUB_2007scape  \\\n",
       "0  Yeah, I get that argument. At this point, I'd ...  2016          False   \n",
       "1  The blazers and Mavericks (The wests 5 and 6 s...  2016          False   \n",
       "2                            They're favored to win.  2016          False   \n",
       "3                         deadass don't kill my buzz  2016          False   \n",
       "4                   do you find ariana grande sexy ?  2016          False   \n",
       "\n",
       "   ...  SUB_television  SUB_tf2  SUB_todayilearned  SUB_trees  SUB_ukpolitics  \\\n",
       "0  ...           False    False              False      False           False   \n",
       "1  ...           False    False              False      False           False   \n",
       "2  ...           False    False              False      False           False   \n",
       "3  ...           False    False              False      False           False   \n",
       "4  ...           False    False              False      False           False   \n",
       "\n",
       "   SUB_unitedkingdom  SUB_videos  SUB_worldnews  SUB_wow  SUB_xboxone  \n",
       "0              False       False          False    False        False  \n",
       "1              False       False          False    False        False  \n",
       "2              False       False          False    False        False  \n",
       "3              False       False          False    False        False  \n",
       "4              False       False          False    False        False  \n",
       "\n",
       "[5 rows x 109 columns]"
      ]
     },
     "execution_count": 3,
     "metadata": {},
     "output_type": "execute_result"
    }
   ],
   "source": [
    "df.head()"
   ]
  },
  {
   "cell_type": "markdown",
   "id": "ddc31589",
   "metadata": {},
   "source": [
    "For consistency we will drop parent comment again"
   ]
  },
  {
   "cell_type": "code",
   "execution_count": null,
   "id": "f3360403",
   "metadata": {},
   "outputs": [],
   "source": [
    "df = df.drop(columns='parent_comment')"
   ]
  },
  {
   "cell_type": "markdown",
   "id": "e597259e",
   "metadata": {},
   "source": [
    "Here we will create our same tokenizer, still allowing for the uppercase letters as last time"
   ]
  },
  {
   "cell_type": "code",
   "execution_count": 9,
   "id": "94c1c387",
   "metadata": {},
   "outputs": [
    {
     "name": "stderr",
     "output_type": "stream",
     "text": [
      "[nltk_data] Downloading package stopwords to\n",
      "[nltk_data]     /Users/lokikeeler/nltk_data...\n",
      "[nltk_data]   Package stopwords is already up-to-date!\n"
     ]
    }
   ],
   "source": [
    "import nltk\n",
    "nltk.download('stopwords')\n",
    "from nltk.corpus import stopwords \n",
    "\n",
    "ENGLISH_STOP_WORDS = stopwords.words('english')\n",
    "\n",
    "def my_tokenizer(sentence):\n",
    "    stemmer = nltk.stem.PorterStemmer()\n",
    "    for punctuation_mark in string.punctuation:\n",
    "        sentence = sentence.replace(punctuation_mark,'')\n",
    "\n",
    "    listofwords = sentence.split(' ')\n",
    "    listofstemmed_words = []\n",
    "\n",
    "    for word in listofwords:\n",
    "        if (not word in ENGLISH_STOP_WORDS) and (word!=''):\n",
    "            # Stem words\n",
    "            stemmed_word = stemmer.stem(word)\n",
    "            listofstemmed_words.append(stemmed_word)\n",
    "\n",
    "    return listofstemmed_words  \n"
   ]
  },
  {
   "cell_type": "markdown",
   "id": "8fa00e3b",
   "metadata": {},
   "source": [
    "Again our we create our y (sarcasm label) and our X (everything else), then do a test/train split"
   ]
  },
  {
   "cell_type": "code",
   "execution_count": 10,
   "id": "9f4627f1",
   "metadata": {},
   "outputs": [],
   "source": [
    "X = df.drop(columns='label')\n",
    "y = df['label']"
   ]
  },
  {
   "cell_type": "code",
   "execution_count": 11,
   "id": "11776d1f",
   "metadata": {},
   "outputs": [],
   "source": [
    "X_train, X_test, y_train, y_test = train_test_split(X, y, test_size=0.3, random_state=42)"
   ]
  },
  {
   "cell_type": "code",
   "execution_count": 12,
   "id": "4fdc8766",
   "metadata": {},
   "outputs": [
    {
     "data": {
      "text/plain": [
       "(384932, 107)"
      ]
     },
     "execution_count": 12,
     "metadata": {},
     "output_type": "execute_result"
    }
   ],
   "source": [
    "X_train.shape"
   ]
  },
  {
   "cell_type": "markdown",
   "id": "ec6a7e6a",
   "metadata": {},
   "source": [
    "Great. Now we can do our TFIDF again, but this time we use a max_features of 500. This will max our created vocabulary to 500 words, which makes the modeling faster and easier."
   ]
  },
  {
   "cell_type": "code",
   "execution_count": 13,
   "id": "48f6ba12",
   "metadata": {},
   "outputs": [
    {
     "name": "stderr",
     "output_type": "stream",
     "text": [
      "/Users/lokikeeler/anaconda3/envs/capstone/lib/python3.8/site-packages/sklearn/feature_extraction/text.py:489: UserWarning: The parameter 'token_pattern' will not be used since 'tokenizer' is not None'\n",
      "  warnings.warn(\"The parameter 'token_pattern' will not be used\"\n"
     ]
    },
    {
     "data": {
      "text/plain": [
       "(384932, 500)"
      ]
     },
     "execution_count": 13,
     "metadata": {},
     "output_type": "execute_result"
    }
   ],
   "source": [
    "# using our custom tokenizer in TfidfVectorizer\n",
    "\n",
    "tfidf = TfidfVectorizer(\n",
    "                       \n",
    "                        min_df=5,\n",
    "                        max_features=500,\n",
    "                        tokenizer=my_tokenizer, \n",
    "                        ngram_range=(1, 3)\n",
    "                        )\n",
    "tfidf.fit(X_train['comment'])\n",
    "\n",
    "X_train_transformed = tfidf.transform(X_train['comment'])\n",
    "X_test_transformed = tfidf.transform(X_test['comment'])\n",
    "\n",
    "X_train_transformed.shape"
   ]
  },
  {
   "cell_type": "markdown",
   "id": "3d11f84c",
   "metadata": {},
   "source": [
    "Now we're ready to perform our random forest model. Let's first run it with no parameters and see how the accuracies compare between the train and test sets"
   ]
  },
  {
   "cell_type": "code",
   "execution_count": 33,
   "id": "ad97004b",
   "metadata": {},
   "outputs": [
    {
     "data": {
      "text/plain": [
       "RandomForestClassifier()"
      ]
     },
     "execution_count": 33,
     "metadata": {},
     "output_type": "execute_result"
    }
   ],
   "source": [
    "random_forest_model = RandomForestClassifier()\n",
    "random_forest_model.fit(X_train_transformed, y_train)"
   ]
  },
  {
   "cell_type": "code",
   "execution_count": 34,
   "id": "d2fc39d5",
   "metadata": {},
   "outputs": [
    {
     "name": "stdout",
     "output_type": "stream",
     "text": [
      "\n",
      "Performance on fitted data:\n",
      "Average Decision Tree: 0.7580817391123628\n",
      "Random Forest: 0.8431385283634512\n",
      "----------------\n",
      "Performance on test data:\n",
      "Average Decision Tree: 0.6046070242222923\n",
      "Random Forest: 0.6413088281647795\n",
      "\n"
     ]
    }
   ],
   "source": [
    "# Instantiate lists to save scores in\n",
    "decision_tree_train_scores = []\n",
    "decision_tree_test_scores = []\n",
    "# For each tree, score on train and test\n",
    "for sub_tree in random_forest_model.estimators_:\n",
    "    decision_tree_train_scores.append(sub_tree.score(X_train_transformed, y_train))\n",
    "    decision_tree_test_scores.append(sub_tree.score(X_test_transformed, y_test))\n",
    "\n",
    "# Rather than many separate print() statements, we can combine them into one using triple quotes.\n",
    "print(f\"\"\"\n",
    "Performance on fitted data:\n",
    "Average Decision Tree: {np.mean(decision_tree_train_scores)}\n",
    "Random Forest: {random_forest_model.score(X_train_transformed, y_train)}\n",
    "----------------\n",
    "Performance on test data:\n",
    "Average Decision Tree: {np.mean(decision_tree_test_scores)}\n",
    "Random Forest: {random_forest_model.score(X_test_transformed, y_test)}\n",
    "\"\"\")"
   ]
  },
  {
   "cell_type": "markdown",
   "id": "ae2aca81",
   "metadata": {},
   "source": [
    "Without applying any hyperparameters our model seems to be overfitting, scoring 84% on the train data and 64% on the test data. Let's try to reduce this by tweaking our model, but first we can look at our confusion matrix and other scores"
   ]
  },
  {
   "cell_type": "code",
   "execution_count": 35,
   "id": "d551b9e0",
   "metadata": {},
   "outputs": [
    {
     "data": {
      "image/png": "[encoded data removed]",
      "text/plain": [
       "<Figure size 640x480 with 2 Axes>"
      ]
     },
     "metadata": {},
     "output_type": "display_data"
    }
   ],
   "source": [
    "predictions = random_forest_model.predict(X_test_transformed)\n",
    "cm = confusion_matrix(y_test, predictions, labels=random_forest_model.classes_)\n",
    "disp = ConfusionMatrixDisplay(confusion_matrix=cm,\n",
    "                             display_labels=random_forest_model.classes_)\n",
    "disp.plot()\n",
    "\n",
    "plt.show()"
   ]
  },
  {
   "cell_type": "code",
   "execution_count": 36,
   "id": "30ba194a",
   "metadata": {},
   "outputs": [
    {
     "name": "stdout",
     "output_type": "stream",
     "text": [
      "The accuracy score is 0.6413088281647795\n",
      "The precision score is 0.674302496328928\n",
      "The recall score is 0.6106736050881758\n"
     ]
    }
   ],
   "source": [
    "y_pred = random_forest_model.predict(X_test_transformed)\n",
    "accuracy = random_forest_model.score(X_test_transformed, y_test)\n",
    "precision = precision_score(y_test, y_pred)\n",
    "recall = recall_score(y_test, y_pred)\n",
    "\n",
    "print(f\"The accuracy score is {accuracy}\")\n",
    "print(f\"The precision score is {precision}\")\n",
    "print(f\"The recall score is {recall}\")"
   ]
  },
  {
   "cell_type": "markdown",
   "id": "e05c9947",
   "metadata": {},
   "source": [
    "Our scores are looking pretty level here. Now let's reapeat this process, but add some hyperparameters to our random forest model. To improve run time, we will cap the number of trees in our forest to 50, allow no max depth, allow min samples split to be two so our tree can keep splitting as long as there are more than one sample at each node, and, lastly, allow for min samples leaf to be 1 so each split just needs a minimum of one sample."
   ]
  },
  {
   "cell_type": "code",
   "execution_count": 14,
   "id": "68ce0e3f",
   "metadata": {},
   "outputs": [
    {
     "data": {
      "text/plain": [
       "RandomForestClassifier(n_estimators=50, n_jobs=-1)"
      ]
     },
     "execution_count": 14,
     "metadata": {},
     "output_type": "execute_result"
    }
   ],
   "source": [
    "random_forest_model_2 = RandomForestClassifier(\n",
    "    n_estimators=50,\n",
    "    n_jobs=-1,\n",
    "    max_depth=None, \n",
    "    min_samples_split=2, \n",
    "    min_samples_leaf=1\n",
    "    ) \n",
    "random_forest_model_2.fit(X_train_transformed, y_train)\n",
    " \n",
    "#plot_decision_regions(X_train, y_train, clf=random_forest_model);"
   ]
  },
  {
   "cell_type": "code",
   "execution_count": 15,
   "id": "4d29470b",
   "metadata": {},
   "outputs": [
    {
     "name": "stdout",
     "output_type": "stream",
     "text": [
      "\n",
      "Performance on fitted data:\n",
      "Average Decision Tree: 0.7580657882431183\n",
      "Random Forest: 0.8429956459842258\n",
      "----------------\n",
      "Performance on test data:\n",
      "Average Decision Tree: 0.6045970225250344\n",
      "Random Forest: 0.6394721528501807\n",
      "\n"
     ]
    }
   ],
   "source": [
    "# Instantiate lists to save scores in\n",
    "decision_tree_train_scores = []\n",
    "decision_tree_test_scores = []\n",
    "# For each tree, score on train and test\n",
    "for sub_tree in random_forest_model_2.estimators_:\n",
    "    decision_tree_train_scores.append(sub_tree.score(X_train_transformed, y_train))\n",
    "    decision_tree_test_scores.append(sub_tree.score(X_test_transformed, y_test))\n",
    "\n",
    "# Rather than many separate print() statements, we can combine them into one using triple quotes.\n",
    "print(f\"\"\"\n",
    "Performance on fitted data:\n",
    "Average Decision Tree: {np.mean(decision_tree_train_scores)}\n",
    "Random Forest: {random_forest_model_2.score(X_train_transformed, y_train)}\n",
    "----------------\n",
    "Performance on test data:\n",
    "Average Decision Tree: {np.mean(decision_tree_test_scores)}\n",
    "Random Forest: {random_forest_model_2.score(X_test_transformed, y_test)}\n",
    "\"\"\")"
   ]
  },
  {
   "cell_type": "markdown",
   "id": "ec6654b7",
   "metadata": {},
   "source": [
    "Again we are overfitting. Let's see how our recall and precision scores have changed"
   ]
  },
  {
   "cell_type": "code",
   "execution_count": 23,
   "id": "44277e59",
   "metadata": {},
   "outputs": [
    {
     "data": {
      "image/png": "[encoded data removed]",
      "text/plain": [
       "<Figure size 640x480 with 2 Axes>"
      ]
     },
     "metadata": {},
     "output_type": "display_data"
    }
   ],
   "source": [
    "predictions = random_forest_model_2.predict(X_test_transformed)\n",
    "cm = confusion_matrix(y_test, predictions, labels=random_forest_model_2.classes_)\n",
    "disp = ConfusionMatrixDisplay(confusion_matrix=cm,\n",
    "                             display_labels=random_forest_model_2.classes_)\n",
    "disp.plot()\n",
    "\n",
    "plt.show()"
   ]
  },
  {
   "cell_type": "code",
   "execution_count": 27,
   "id": "05fc1768",
   "metadata": {},
   "outputs": [
    {
     "name": "stdout",
     "output_type": "stream",
     "text": [
      "The accuracy score is 0.6394721528501807\n",
      "The precision score is 0.6729485619114727\n",
      "The recall score is 0.6074241110147441\n"
     ]
    }
   ],
   "source": [
    "y_pred = random_forest_model_2.predict(X_test_transformed)\n",
    "accuracy = random_forest_model_2.score(X_test_transformed, y_test)\n",
    "precision = precision_score(y_test, y_pred)\n",
    "recall = recall_score(y_test, y_pred)\n",
    "\n",
    "print(f\"The accuracy score is {accuracy}\")\n",
    "print(f\"The precision score is {precision}\")\n",
    "print(f\"The recall score is {recall}\")"
   ]
  },
  {
   "cell_type": "markdown",
   "id": "3d2b5c5f",
   "metadata": {},
   "source": [
    "Not much has changed here, only half a percent difference. Let's try again and experiment with different numbers. This time I will have no max_depth, and increase the min samples split to 10, and min samples leaf to 5"
   ]
  },
  {
   "cell_type": "code",
   "execution_count": 16,
   "id": "e1911352",
   "metadata": {},
   "outputs": [
    {
     "data": {
      "text/plain": [
       "RandomForestClassifier(min_samples_leaf=5, min_samples_split=10,\n",
       "                       n_estimators=50, n_jobs=-1)"
      ]
     },
     "execution_count": 16,
     "metadata": {},
     "output_type": "execute_result"
    }
   ],
   "source": [
    "random_forest_model_3 = RandomForestClassifier(\n",
    "    n_estimators=50,\n",
    "    n_jobs=-1,\n",
    "    max_depth=None,\n",
    "    min_samples_split=10,  # Adjust the value based on experimentation\n",
    "    min_samples_leaf=5  # Adjust the value based on experimentation\n",
    ")\n",
    "random_forest_model_3.fit(X_train_transformed, y_train)"
   ]
  },
  {
   "cell_type": "code",
   "execution_count": 17,
   "id": "628b3d49",
   "metadata": {},
   "outputs": [
    {
     "name": "stdout",
     "output_type": "stream",
     "text": [
      "\n",
      "Performance on fitted data:\n",
      "Average Decision Tree: 0.6550983550341359\n",
      "Random Forest: 0.706239024035414\n",
      "----------------\n",
      "Performance on test data:\n",
      "Average Decision Tree: 0.6175293989283029\n",
      "Random Forest: 0.64613388938729\n",
      "\n"
     ]
    }
   ],
   "source": [
    "# Instantiate lists to save scores in\n",
    "decision_tree_train_scores = []\n",
    "decision_tree_test_scores = []\n",
    "# For each tree, score on train and test\n",
    "for sub_tree in random_forest_model_3.estimators_:\n",
    "    decision_tree_train_scores.append(sub_tree.score(X_train_transformed, y_train))\n",
    "    decision_tree_test_scores.append(sub_tree.score(X_test_transformed, y_test))\n",
    "\n",
    "# Rather than many separate print() statements, we can combine them into one using triple quotes.\n",
    "print(f\"\"\"\n",
    "Performance on fitted data:\n",
    "Average Decision Tree: {np.mean(decision_tree_train_scores)}\n",
    "Random Forest: {random_forest_model_3.score(X_train_transformed, y_train)}\n",
    "----------------\n",
    "Performance on test data:\n",
    "Average Decision Tree: {np.mean(decision_tree_test_scores)}\n",
    "Random Forest: {random_forest_model_3.score(X_test_transformed, y_test)}\n",
    "\"\"\")"
   ]
  },
  {
   "cell_type": "markdown",
   "id": "016b54c3",
   "metadata": {},
   "source": [
    "Here we can see some small progress: the accuracy improved by one percent, and our training set is only 6% better than our test data (rather than 20% as before). This indicates less overfitting, although we still are overfitting my a smudge. Let's check on our other scores"
   ]
  },
  {
   "cell_type": "code",
   "execution_count": 31,
   "id": "11977cd5",
   "metadata": {},
   "outputs": [
    {
     "data": {
      "image/png": "[encoded data removed]",
      "text/plain": [
       "<Figure size 640x480 with 2 Axes>"
      ]
     },
     "metadata": {},
     "output_type": "display_data"
    }
   ],
   "source": [
    "predictions = random_forest_model_3.predict(X_test_transformed)\n",
    "cm = confusion_matrix(y_test, predictions, labels=random_forest_model_3.classes_)\n",
    "disp = ConfusionMatrixDisplay(confusion_matrix=cm,\n",
    "                             display_labels=random_forest_model_3.classes_)\n",
    "disp.plot()\n",
    "\n",
    "plt.show()"
   ]
  },
  {
   "cell_type": "code",
   "execution_count": 32,
   "id": "f0df0a67",
   "metadata": {},
   "outputs": [
    {
     "name": "stdout",
     "output_type": "stream",
     "text": [
      "The accuracy score is 0.64613388938729\n",
      "The precision score is 0.6745784195548707\n",
      "The recall score is 0.6277421220005782\n"
     ]
    }
   ],
   "source": [
    "y_pred = random_forest_model_2.predict(X_test_transformed)\n",
    "accuracy = random_forest_model_2.score(X_test_transformed, y_test)\n",
    "precision = precision_score(y_test, y_pred)\n",
    "recall = recall_score(y_test, y_pred)\n",
    "\n",
    "print(f\"The accuracy score is {accuracy}\")\n",
    "print(f\"The precision score is {precision}\")\n",
    "print(f\"The recall score is {recall}\")"
   ]
  },
  {
   "cell_type": "markdown",
   "id": "3d858161",
   "metadata": {},
   "source": [
    "Here our recall score has improved by 1%, signifying we are are more correct with our positive predictions"
   ]
  },
  {
   "cell_type": "markdown",
   "id": "cc522b3a",
   "metadata": {},
   "source": [
    "## Conclusion"
   ]
  },
  {
   "cell_type": "markdown",
   "id": "77578fa1",
   "metadata": {},
   "source": [
    "After using a TF IDF on our Comments, we were able to run a few different Random Forest models. Accuracy, precision, and recall scores all ranged in the 60-67 percentile with every model. As the first two models were significantly overfitted, our last model was only slightly overfitted. Furthermore, our last model had a slightly better recall and accuracy score. "
   ]
  }
 ],
 "metadata": {
  "kernelspec": {
   "display_name": "capstone",
   "language": "python",
   "name": "capstone"
  },
  "language_info": {
   "codemirror_mode": {
    "name": "ipython",
    "version": 3
   },
   "file_extension": ".py",
   "mimetype": "text/x-python",
   "name": "python",
   "nbconvert_exporter": "python",
   "pygments_lexer": "ipython3",
   "version": "3.8.18"
  }
 },
 "nbformat": 4,
 "nbformat_minor": 5
}
