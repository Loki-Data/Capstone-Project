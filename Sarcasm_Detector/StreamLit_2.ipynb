{
 "cells": [
  {
   "cell_type": "code",
   "execution_count": 1,
   "id": "c8462935",
   "metadata": {},
   "outputs": [],
   "source": [
    "import pandas as pd\n",
    "import streamlit as st\n",
    "import joblib"
   ]
  },
  {
   "cell_type": "code",
   "execution_count": 5,
   "id": "35ae1575",
   "metadata": {},
   "outputs": [],
   "source": [
    "st.write(\"Streamlit is an open-source app framework for Machine Learning and Data Science teams\")"
   ]
  },
  {
   "cell_type": "code",
   "execution_count": 6,
   "id": "bf1a0443",
   "metadata": {},
   "outputs": [
    {
     "data": {
      "text/plain": [
       "DeltaGenerator()"
      ]
     },
     "execution_count": 6,
     "metadata": {},
     "output_type": "execute_result"
    }
   ],
   "source": [
    "st.title(\"Sarcasm Detection - Capstone\")"
   ]
  },
  {
   "cell_type": "code",
   "execution_count": 13,
   "id": "495e1a78",
   "metadata": {},
   "outputs": [
    {
     "name": "stderr",
     "output_type": "stream",
     "text": [
      "2024-02-05 10:15:42.726 No runtime found, using MemoryCacheStorageManager\n"
     ]
    }
   ],
   "source": [
    "@st.cache_data # <- add decorators after tried running the load multiple times\n",
    "def load_data(path):\n",
    "    df = pd.read_csv(path)"
   ]
  },
  {
   "cell_type": "code",
   "execution_count": 14,
   "id": "7d0b8104",
   "metadata": {},
   "outputs": [
    {
     "name": "stderr",
     "output_type": "stream",
     "text": [
      "2024-02-05 10:15:45.997 No runtime found, using MemoryCacheStorageManager\n"
     ]
    },
    {
     "data": {
      "text/plain": [
       "DeltaGenerator()"
      ]
     },
     "execution_count": 14,
     "metadata": {},
     "output_type": "execute_result"
    }
   ],
   "source": [
    "df = load_data('/Users/lokikeeler/Downloads/train-balanced-sarcasm_3.csv')\n",
    "\n",
    "st.dataframe(df)"
   ]
  },
  {
   "cell_type": "code",
   "execution_count": 16,
   "id": "7ab53967",
   "metadata": {},
   "outputs": [
    {
     "data": {
      "text/plain": [
       "DeltaGenerator()"
      ]
     },
     "execution_count": 16,
     "metadata": {},
     "output_type": "execute_result"
    }
   ],
   "source": [
    "st.subheader('LR Sarcasm Detector Model')      "
   ]
  },
  {
   "cell_type": "code",
   "execution_count": 22,
   "id": "72c76cc3",
   "metadata": {},
   "outputs": [
    {
     "name": "stderr",
     "output_type": "stream",
     "text": [
      "[nltk_data] Downloading package stopwords to\n",
      "[nltk_data]     /Users/lokikeeler/nltk_data...\n",
      "[nltk_data]   Package stopwords is already up-to-date!\n"
     ]
    }
   ],
   "source": [
    "import nltk\n",
    "nltk.download('stopwords')\n",
    "from nltk.corpus import stopwords \n",
    "\n",
    "ENGLISH_STOP_WORDS = stopwords.words('english')\n",
    "\n",
    "def my_tokenizer(sentence):\n",
    "    stemmer = nltk.stem.PorterStemmer()\n",
    "    for punctuation_mark in string.punctuation:\n",
    "        sentence = sentence.replace(punctuation_mark,'')\n",
    "\n",
    "    listofwords = sentence.split(' ')\n",
    "    listofstemmed_words = []\n",
    "\n",
    "    for word in listofwords:\n",
    "        if (not word in ENGLISH_STOP_WORDS) and (word!=''):\n",
    "            # Stem words\n",
    "            stemmed_word = stemmer.stem(word)\n",
    "            listofstemmed_words.append(stemmed_word)\n",
    "\n",
    "    return listofstemmed_words  "
   ]
  },
  {
   "cell_type": "code",
   "execution_count": 24,
   "id": "4a349a5b",
   "metadata": {},
   "outputs": [],
   "source": [
    "import string"
   ]
  },
  {
   "cell_type": "code",
   "execution_count": 28,
   "id": "1a516ed5",
   "metadata": {},
   "outputs": [],
   "source": [
    "my_tokenizer = joblib.load('finalized_tokenizer.sav')\n",
    "model = joblib.load('finalized_model.sav') #model???\n",
    "\n",
    "\n",
    "# load vectorizer\n",
    "vectorizer = joblib.load('finalized_vector.sav')\n",
    "\n",
    "\n",
    "text = st.text_input('Enter your review text below', 'Best. Restaurant. Ever.')\n",
    "\n",
    "vector1 = vectorizer.transform([text])\n",
    "\n",
    "\n",
    "# C. Use the model to predict sentiment & write result\n",
    "prediction = model.predict(vector1)\n",
    "\n",
    "if prediction[0] > 0.5:\n",
    "    st.write('We predict that this is sarcastic!')\n",
    "else:\n",
    "    st.write('We predict that this is not sarcastic!')"
   ]
  },
  {
   "cell_type": "code",
   "execution_count": null,
   "id": "819ac758",
   "metadata": {},
   "outputs": [],
   "source": []
  },
  {
   "cell_type": "code",
   "execution_count": null,
   "id": "439203cb",
   "metadata": {},
   "outputs": [],
   "source": []
  }
 ],
 "metadata": {
  "kernelspec": {
   "display_name": "Python 3 (ipykernel)",
   "language": "python",
   "name": "python3"
  },
  "language_info": {
   "codemirror_mode": {
    "name": "ipython",
    "version": 3
   },
   "file_extension": ".py",
   "mimetype": "text/x-python",
   "name": "python",
   "nbconvert_exporter": "python",
   "pygments_lexer": "ipython3",
   "version": "3.11.5"
  }
 },
 "nbformat": 4,
 "nbformat_minor": 5
}
