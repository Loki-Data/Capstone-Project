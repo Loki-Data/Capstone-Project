{
 "cells": [
  {
   "cell_type": "markdown",
   "id": "4ae140fd",
   "metadata": {},
   "source": [
    "#### Data Dictionary \n",
    "\n",
    "\n",
    "Label -\t        Whether the comment is sarcastic (1) or not sarcastic (0). Int\n",
    "\n",
    "Comment -\t    The actual comment from Reddit that is being analyzed. Object  \n",
    "\n",
    "Author -\t    Author of the comment. Object\n",
    "\n",
    "Subreddit -\t    The category on Reddit where the comment was written. Object\n",
    "\n",
    "Score -\t        The sum of Up-votes and Down-votes. This is a way for Reddit users to approve or disapprove of                 comments. Int\n",
    "\n",
    "Ups -\t        The amount of Up-votes (approving votes) a comment received. Int\n",
    "\n",
    "Downs -\t        The amount of Down-votes (dispproving votes) a comment received. Int\n",
    "\n",
    "Date -\t        The month and year the comment was created. Object \n",
    "\n",
    "Created utc -   The exact second the comment was created. Object \n",
    "\n",
    "Parent Comment-\tThe original comment or posting on Reddit that our analyzed comment replied to. Object         "
   ]
  },
  {
   "cell_type": "markdown",
   "id": "ae46bfb1",
   "metadata": {},
   "source": [
    "The first Capstone notebook for my Sarcasm detection model and response generator.\n",
    "First, let's import the libraries."
   ]
  },
  {
   "cell_type": "code",
   "execution_count": 44,
   "id": "fd2b5f34",
   "metadata": {},
   "outputs": [],
   "source": [
    "import numpy as np\n",
    "import pandas as pd\n",
    "import matplotlib.pyplot as plt\n",
    "import seaborn as sns\n",
    "from scipy import stats\n",
    "from scipy.stats import norm\n",
    "import statsmodels.api as sm\n",
    "from statsmodels.stats.proportion import proportions_ztest\n",
    "import mpl_toolkits.mplot3d as m3d\n",
    "from scipy import special"
   ]
  },
  {
   "cell_type": "markdown",
   "id": "095bcd4a",
   "metadata": {},
   "source": [
    "The data we will use is a sarcasm corpus dataset from Reddit. Let's import it."
   ]
  },
  {
   "cell_type": "code",
   "execution_count": 45,
   "id": "29a8ce9a",
   "metadata": {},
   "outputs": [
    {
     "data": {
      "text/html": [
       "<div>\n",
       "<style scoped>\n",
       "    .dataframe tbody tr th:only-of-type {\n",
       "        vertical-align: middle;\n",
       "    }\n",
       "\n",
       "    .dataframe tbody tr th {\n",
       "        vertical-align: top;\n",
       "    }\n",
       "\n",
       "    .dataframe thead th {\n",
       "        text-align: right;\n",
       "    }\n",
       "</style>\n",
       "<table border=\"1\" class=\"dataframe\">\n",
       "  <thead>\n",
       "    <tr style=\"text-align: right;\">\n",
       "      <th></th>\n",
       "      <th>label</th>\n",
       "      <th>comment</th>\n",
       "      <th>author</th>\n",
       "      <th>subreddit</th>\n",
       "      <th>score</th>\n",
       "      <th>ups</th>\n",
       "      <th>downs</th>\n",
       "      <th>date</th>\n",
       "      <th>created_utc</th>\n",
       "      <th>parent_comment</th>\n",
       "    </tr>\n",
       "  </thead>\n",
       "  <tbody>\n",
       "    <tr>\n",
       "      <th>0</th>\n",
       "      <td>0</td>\n",
       "      <td>NC and NH.</td>\n",
       "      <td>Trumpbart</td>\n",
       "      <td>politics</td>\n",
       "      <td>2</td>\n",
       "      <td>-1</td>\n",
       "      <td>-1</td>\n",
       "      <td>2016-10</td>\n",
       "      <td>2016-10-16 23:55:23</td>\n",
       "      <td>Yeah, I get that argument. At this point, I'd ...</td>\n",
       "    </tr>\n",
       "    <tr>\n",
       "      <th>1</th>\n",
       "      <td>0</td>\n",
       "      <td>You do know west teams play against west teams...</td>\n",
       "      <td>Shbshb906</td>\n",
       "      <td>nba</td>\n",
       "      <td>-4</td>\n",
       "      <td>-1</td>\n",
       "      <td>-1</td>\n",
       "      <td>2016-11</td>\n",
       "      <td>2016-11-01 00:24:10</td>\n",
       "      <td>The blazers and Mavericks (The wests 5 and 6 s...</td>\n",
       "    </tr>\n",
       "    <tr>\n",
       "      <th>2</th>\n",
       "      <td>0</td>\n",
       "      <td>They were underdogs earlier today, but since G...</td>\n",
       "      <td>Creepeth</td>\n",
       "      <td>nfl</td>\n",
       "      <td>3</td>\n",
       "      <td>3</td>\n",
       "      <td>0</td>\n",
       "      <td>2016-09</td>\n",
       "      <td>2016-09-22 21:45:37</td>\n",
       "      <td>They're favored to win.</td>\n",
       "    </tr>\n",
       "    <tr>\n",
       "      <th>3</th>\n",
       "      <td>0</td>\n",
       "      <td>This meme isn't funny none of the \"new york ni...</td>\n",
       "      <td>icebrotha</td>\n",
       "      <td>BlackPeopleTwitter</td>\n",
       "      <td>-8</td>\n",
       "      <td>-1</td>\n",
       "      <td>-1</td>\n",
       "      <td>2016-10</td>\n",
       "      <td>2016-10-18 21:03:47</td>\n",
       "      <td>deadass don't kill my buzz</td>\n",
       "    </tr>\n",
       "    <tr>\n",
       "      <th>4</th>\n",
       "      <td>0</td>\n",
       "      <td>I could use one of those tools.</td>\n",
       "      <td>cush2push</td>\n",
       "      <td>MaddenUltimateTeam</td>\n",
       "      <td>6</td>\n",
       "      <td>-1</td>\n",
       "      <td>-1</td>\n",
       "      <td>2016-12</td>\n",
       "      <td>2016-12-30 17:00:13</td>\n",
       "      <td>Yep can confirm I saw the tool they use for th...</td>\n",
       "    </tr>\n",
       "  </tbody>\n",
       "</table>\n",
       "</div>"
      ],
      "text/plain": [
       "   label                                            comment     author  \\\n",
       "0      0                                         NC and NH.  Trumpbart   \n",
       "1      0  You do know west teams play against west teams...  Shbshb906   \n",
       "2      0  They were underdogs earlier today, but since G...   Creepeth   \n",
       "3      0  This meme isn't funny none of the \"new york ni...  icebrotha   \n",
       "4      0                    I could use one of those tools.  cush2push   \n",
       "\n",
       "            subreddit  score  ups  downs     date          created_utc  \\\n",
       "0            politics      2   -1     -1  2016-10  2016-10-16 23:55:23   \n",
       "1                 nba     -4   -1     -1  2016-11  2016-11-01 00:24:10   \n",
       "2                 nfl      3    3      0  2016-09  2016-09-22 21:45:37   \n",
       "3  BlackPeopleTwitter     -8   -1     -1  2016-10  2016-10-18 21:03:47   \n",
       "4  MaddenUltimateTeam      6   -1     -1  2016-12  2016-12-30 17:00:13   \n",
       "\n",
       "                                      parent_comment  \n",
       "0  Yeah, I get that argument. At this point, I'd ...  \n",
       "1  The blazers and Mavericks (The wests 5 and 6 s...  \n",
       "2                            They're favored to win.  \n",
       "3                         deadass don't kill my buzz  \n",
       "4  Yep can confirm I saw the tool they use for th...  "
      ]
     },
     "execution_count": 45,
     "metadata": {},
     "output_type": "execute_result"
    }
   ],
   "source": [
    "df = pd.read_csv('/Users/lokikeeler/Downloads/train-balanced-sarcasm.csv')\n",
    "df.head()\n",
    "# https://www.kaggle.com/datasets/danofer/sarcasm?select=train-balanced-sarcasm.csv"
   ]
  },
  {
   "cell_type": "markdown",
   "id": "c2b510b8",
   "metadata": {},
   "source": [
    "It's important to note that the column 'label' is the indicator whether a comment is sarcastic or not (1 being sarcastic, 0 being not sarcastic). Also, the column 'score' is the sum of up and down votes."
   ]
  },
  {
   "cell_type": "markdown",
   "id": "54b3e57d",
   "metadata": {},
   "source": [
    "Now let's perform multiple preliminary EDA of our data"
   ]
  },
  {
   "cell_type": "code",
   "execution_count": 48,
   "id": "47614935",
   "metadata": {},
   "outputs": [
    {
     "name": "stdout",
     "output_type": "stream",
     "text": [
      "<class 'pandas.core.frame.DataFrame'>\n",
      "RangeIndex: 1010826 entries, 0 to 1010825\n",
      "Data columns (total 10 columns):\n",
      " #   Column          Non-Null Count    Dtype \n",
      "---  ------          --------------    ----- \n",
      " 0   label           1010826 non-null  int64 \n",
      " 1   comment         1010771 non-null  object\n",
      " 2   author          1010826 non-null  object\n",
      " 3   subreddit       1010826 non-null  object\n",
      " 4   score           1010826 non-null  int64 \n",
      " 5   ups             1010826 non-null  int64 \n",
      " 6   downs           1010826 non-null  int64 \n",
      " 7   date            1010826 non-null  object\n",
      " 8   created_utc     1010826 non-null  object\n",
      " 9   parent_comment  1010826 non-null  object\n",
      "dtypes: int64(4), object(6)\n",
      "memory usage: 77.1+ MB\n"
     ]
    }
   ],
   "source": [
    "df.info()"
   ]
  },
  {
   "cell_type": "markdown",
   "id": "128b5556",
   "metadata": {},
   "source": [
    "Now we can see which columns are integers and which are objects. Also we can see that we have just a few null values (comment column). Let's change the date columns to datetime, and get rid of the rows with null values"
   ]
  },
  {
   "cell_type": "code",
   "execution_count": 49,
   "id": "6845c579",
   "metadata": {},
   "outputs": [
    {
     "name": "stdout",
     "output_type": "stream",
     "text": [
      "<class 'pandas.core.frame.DataFrame'>\n",
      "RangeIndex: 1010826 entries, 0 to 1010825\n",
      "Data columns (total 10 columns):\n",
      " #   Column          Non-Null Count    Dtype         \n",
      "---  ------          --------------    -----         \n",
      " 0   label           1010826 non-null  int64         \n",
      " 1   comment         1010771 non-null  object        \n",
      " 2   author          1010826 non-null  object        \n",
      " 3   subreddit       1010826 non-null  object        \n",
      " 4   score           1010826 non-null  int64         \n",
      " 5   ups             1010826 non-null  int64         \n",
      " 6   downs           1010826 non-null  int64         \n",
      " 7   date            1010826 non-null  datetime64[ns]\n",
      " 8   created_utc     1010826 non-null  datetime64[ns]\n",
      " 9   parent_comment  1010826 non-null  object        \n",
      "dtypes: datetime64[ns](2), int64(4), object(4)\n",
      "memory usage: 77.1+ MB\n"
     ]
    }
   ],
   "source": [
    "df['date'] = pd.to_datetime(df['date'])\n",
    "df['created_utc'] = pd.to_datetime(df['created_utc'])\n",
    "df.info()"
   ]
  },
  {
   "cell_type": "markdown",
   "id": "702737a1",
   "metadata": {},
   "source": [
    "Dates are done, now let's do the nulls"
   ]
  },
  {
   "cell_type": "code",
   "execution_count": 50,
   "id": "1f620ee0",
   "metadata": {},
   "outputs": [
    {
     "data": {
      "text/plain": [
       "label             0\n",
       "comment           0\n",
       "author            0\n",
       "subreddit         0\n",
       "score             0\n",
       "ups               0\n",
       "downs             0\n",
       "date              0\n",
       "created_utc       0\n",
       "parent_comment    0\n",
       "dtype: int64"
      ]
     },
     "execution_count": 50,
     "metadata": {},
     "output_type": "execute_result"
    }
   ],
   "source": [
    "df = df.dropna()\n",
    "df.isnull().sum()"
   ]
  },
  {
   "cell_type": "markdown",
   "id": "354a820d",
   "metadata": {},
   "source": [
    "Let's see how distributed the sarcasm is between our dataset"
   ]
  },
  {
   "cell_type": "code",
   "execution_count": 51,
   "id": "bff51efe",
   "metadata": {},
   "outputs": [
    {
     "data": {
      "text/plain": [
       "label\n",
       "0    505403\n",
       "1    505368\n",
       "Name: count, dtype: int64"
      ]
     },
     "execution_count": 51,
     "metadata": {},
     "output_type": "execute_result"
    }
   ],
   "source": [
    "df['label'].value_counts()"
   ]
  },
  {
   "cell_type": "markdown",
   "id": "9004e2a1",
   "metadata": {},
   "source": [
    "Here we can see our dataset is very even between sarcastic and non sarcastic comments. This is good to note as we play with our dataset. Now let's take a look at some of these columns. Let's choose Author to start."
   ]
  },
  {
   "cell_type": "code",
   "execution_count": 52,
   "id": "60ab80a1",
   "metadata": {},
   "outputs": [
    {
     "data": {
      "text/plain": [
       "author\n",
       "Biffingston        845\n",
       "pokemon_fetish     432\n",
       "NeonDisease        422\n",
       "ShyBiDude89        404\n",
       "ivsciguy           342\n",
       "                  ... \n",
       "seoul2002            1\n",
       "YUNGA5TRO            1\n",
       "mountaingoatery      1\n",
       "SonaMechanics        1\n",
       "lastnotice           1\n",
       "Name: count, Length: 256560, dtype: int64"
      ]
     },
     "execution_count": 52,
     "metadata": {},
     "output_type": "execute_result"
    }
   ],
   "source": [
    "df['author'].value_counts()"
   ]
  },
  {
   "cell_type": "markdown",
   "id": "7b48ebd1",
   "metadata": {},
   "source": [
    "Here we can see there are over 25,000 rows of authors, yet not even one author has a count of 1000. Since this column is also an object data frame, let's drop this column as it will not be a good predictor of sarcasm and will clutter our data."
   ]
  },
  {
   "cell_type": "code",
   "execution_count": 53,
   "id": "351b9e06",
   "metadata": {},
   "outputs": [
    {
     "data": {
      "text/html": [
       "<div>\n",
       "<style scoped>\n",
       "    .dataframe tbody tr th:only-of-type {\n",
       "        vertical-align: middle;\n",
       "    }\n",
       "\n",
       "    .dataframe tbody tr th {\n",
       "        vertical-align: top;\n",
       "    }\n",
       "\n",
       "    .dataframe thead th {\n",
       "        text-align: right;\n",
       "    }\n",
       "</style>\n",
       "<table border=\"1\" class=\"dataframe\">\n",
       "  <thead>\n",
       "    <tr style=\"text-align: right;\">\n",
       "      <th></th>\n",
       "      <th>label</th>\n",
       "      <th>comment</th>\n",
       "      <th>subreddit</th>\n",
       "      <th>score</th>\n",
       "      <th>ups</th>\n",
       "      <th>downs</th>\n",
       "      <th>date</th>\n",
       "      <th>created_utc</th>\n",
       "      <th>parent_comment</th>\n",
       "    </tr>\n",
       "  </thead>\n",
       "  <tbody>\n",
       "    <tr>\n",
       "      <th>0</th>\n",
       "      <td>0</td>\n",
       "      <td>NC and NH.</td>\n",
       "      <td>politics</td>\n",
       "      <td>2</td>\n",
       "      <td>-1</td>\n",
       "      <td>-1</td>\n",
       "      <td>2016-10-01</td>\n",
       "      <td>2016-10-16 23:55:23</td>\n",
       "      <td>Yeah, I get that argument. At this point, I'd ...</td>\n",
       "    </tr>\n",
       "    <tr>\n",
       "      <th>1</th>\n",
       "      <td>0</td>\n",
       "      <td>You do know west teams play against west teams...</td>\n",
       "      <td>nba</td>\n",
       "      <td>-4</td>\n",
       "      <td>-1</td>\n",
       "      <td>-1</td>\n",
       "      <td>2016-11-01</td>\n",
       "      <td>2016-11-01 00:24:10</td>\n",
       "      <td>The blazers and Mavericks (The wests 5 and 6 s...</td>\n",
       "    </tr>\n",
       "    <tr>\n",
       "      <th>2</th>\n",
       "      <td>0</td>\n",
       "      <td>They were underdogs earlier today, but since G...</td>\n",
       "      <td>nfl</td>\n",
       "      <td>3</td>\n",
       "      <td>3</td>\n",
       "      <td>0</td>\n",
       "      <td>2016-09-01</td>\n",
       "      <td>2016-09-22 21:45:37</td>\n",
       "      <td>They're favored to win.</td>\n",
       "    </tr>\n",
       "    <tr>\n",
       "      <th>3</th>\n",
       "      <td>0</td>\n",
       "      <td>This meme isn't funny none of the \"new york ni...</td>\n",
       "      <td>BlackPeopleTwitter</td>\n",
       "      <td>-8</td>\n",
       "      <td>-1</td>\n",
       "      <td>-1</td>\n",
       "      <td>2016-10-01</td>\n",
       "      <td>2016-10-18 21:03:47</td>\n",
       "      <td>deadass don't kill my buzz</td>\n",
       "    </tr>\n",
       "    <tr>\n",
       "      <th>4</th>\n",
       "      <td>0</td>\n",
       "      <td>I could use one of those tools.</td>\n",
       "      <td>MaddenUltimateTeam</td>\n",
       "      <td>6</td>\n",
       "      <td>-1</td>\n",
       "      <td>-1</td>\n",
       "      <td>2016-12-01</td>\n",
       "      <td>2016-12-30 17:00:13</td>\n",
       "      <td>Yep can confirm I saw the tool they use for th...</td>\n",
       "    </tr>\n",
       "  </tbody>\n",
       "</table>\n",
       "</div>"
      ],
      "text/plain": [
       "   label                                            comment  \\\n",
       "0      0                                         NC and NH.   \n",
       "1      0  You do know west teams play against west teams...   \n",
       "2      0  They were underdogs earlier today, but since G...   \n",
       "3      0  This meme isn't funny none of the \"new york ni...   \n",
       "4      0                    I could use one of those tools.   \n",
       "\n",
       "            subreddit  score  ups  downs       date         created_utc  \\\n",
       "0            politics      2   -1     -1 2016-10-01 2016-10-16 23:55:23   \n",
       "1                 nba     -4   -1     -1 2016-11-01 2016-11-01 00:24:10   \n",
       "2                 nfl      3    3      0 2016-09-01 2016-09-22 21:45:37   \n",
       "3  BlackPeopleTwitter     -8   -1     -1 2016-10-01 2016-10-18 21:03:47   \n",
       "4  MaddenUltimateTeam      6   -1     -1 2016-12-01 2016-12-30 17:00:13   \n",
       "\n",
       "                                      parent_comment  \n",
       "0  Yeah, I get that argument. At this point, I'd ...  \n",
       "1  The blazers and Mavericks (The wests 5 and 6 s...  \n",
       "2                            They're favored to win.  \n",
       "3                         deadass don't kill my buzz  \n",
       "4  Yep can confirm I saw the tool they use for th...  "
      ]
     },
     "execution_count": 53,
     "metadata": {},
     "output_type": "execute_result"
    }
   ],
   "source": [
    "df = df.drop(columns=['author'])\n",
    "df.head()"
   ]
  },
  {
   "cell_type": "markdown",
   "id": "bdbf0b9c",
   "metadata": {},
   "source": [
    "Author has been dropped. Now let's look at our data on a year by year basis."
   ]
  },
  {
   "cell_type": "code",
   "execution_count": 54,
   "id": "8816bd92",
   "metadata": {},
   "outputs": [
    {
     "data": {
      "text/plain": [
       "year\n",
       "2016    475686\n",
       "2015    286856\n",
       "2014    137512\n",
       "2013     63558\n",
       "2012     27307\n",
       "2011     12723\n",
       "2010      5279\n",
       "2009      1850\n",
       "Name: count, dtype: int64"
      ]
     },
     "execution_count": 54,
     "metadata": {},
     "output_type": "execute_result"
    }
   ],
   "source": [
    "df['year'] = df['date'].dt.year\n",
    "df['year'].value_counts()"
   ]
  },
  {
   "cell_type": "code",
   "execution_count": 55,
   "id": "8dc55c58",
   "metadata": {},
   "outputs": [
    {
     "data": {
      "text/html": [
       "<div>\n",
       "<style scoped>\n",
       "    .dataframe tbody tr th:only-of-type {\n",
       "        vertical-align: middle;\n",
       "    }\n",
       "\n",
       "    .dataframe tbody tr th {\n",
       "        vertical-align: top;\n",
       "    }\n",
       "\n",
       "    .dataframe thead th {\n",
       "        text-align: right;\n",
       "    }\n",
       "</style>\n",
       "<table border=\"1\" class=\"dataframe\">\n",
       "  <thead>\n",
       "    <tr style=\"text-align: right;\">\n",
       "      <th></th>\n",
       "      <th>year</th>\n",
       "      <th>label</th>\n",
       "    </tr>\n",
       "  </thead>\n",
       "  <tbody>\n",
       "    <tr>\n",
       "      <th>0</th>\n",
       "      <td>2009</td>\n",
       "      <td>1078</td>\n",
       "    </tr>\n",
       "    <tr>\n",
       "      <th>1</th>\n",
       "      <td>2010</td>\n",
       "      <td>2977</td>\n",
       "    </tr>\n",
       "    <tr>\n",
       "      <th>2</th>\n",
       "      <td>2011</td>\n",
       "      <td>6944</td>\n",
       "    </tr>\n",
       "    <tr>\n",
       "      <th>3</th>\n",
       "      <td>2012</td>\n",
       "      <td>14592</td>\n",
       "    </tr>\n",
       "    <tr>\n",
       "      <th>4</th>\n",
       "      <td>2013</td>\n",
       "      <td>34193</td>\n",
       "    </tr>\n",
       "    <tr>\n",
       "      <th>5</th>\n",
       "      <td>2014</td>\n",
       "      <td>73506</td>\n",
       "    </tr>\n",
       "    <tr>\n",
       "      <th>6</th>\n",
       "      <td>2015</td>\n",
       "      <td>149297</td>\n",
       "    </tr>\n",
       "    <tr>\n",
       "      <th>7</th>\n",
       "      <td>2016</td>\n",
       "      <td>222781</td>\n",
       "    </tr>\n",
       "  </tbody>\n",
       "</table>\n",
       "</div>"
      ],
      "text/plain": [
       "   year   label\n",
       "0  2009    1078\n",
       "1  2010    2977\n",
       "2  2011    6944\n",
       "3  2012   14592\n",
       "4  2013   34193\n",
       "5  2014   73506\n",
       "6  2015  149297\n",
       "7  2016  222781"
      ]
     },
     "execution_count": 55,
     "metadata": {},
     "output_type": "execute_result"
    }
   ],
   "source": [
    "df.groupby('year')['label'].sum().reset_index(name='label')"
   ]
  },
  {
   "cell_type": "markdown",
   "id": "4afd8b0f",
   "metadata": {},
   "source": [
    "In both of these entries we can see that there are the least amount of comments taken from the year 2009, and it increases every year until it ends in 2016. Also, we can see that there are more sarcastic comments each year because of this."
   ]
  },
  {
   "cell_type": "markdown",
   "id": "36eb32fc",
   "metadata": {},
   "source": [
    "Let's continue by looking at some values of our data"
   ]
  },
  {
   "cell_type": "code",
   "execution_count": 56,
   "id": "803f9832",
   "metadata": {},
   "outputs": [
    {
     "data": {
      "text/html": [
       "<div>\n",
       "<style scoped>\n",
       "    .dataframe tbody tr th:only-of-type {\n",
       "        vertical-align: middle;\n",
       "    }\n",
       "\n",
       "    .dataframe tbody tr th {\n",
       "        vertical-align: top;\n",
       "    }\n",
       "\n",
       "    .dataframe thead th {\n",
       "        text-align: right;\n",
       "    }\n",
       "</style>\n",
       "<table border=\"1\" class=\"dataframe\">\n",
       "  <thead>\n",
       "    <tr style=\"text-align: right;\">\n",
       "      <th></th>\n",
       "      <th>label</th>\n",
       "      <th>score</th>\n",
       "      <th>ups</th>\n",
       "      <th>downs</th>\n",
       "      <th>date</th>\n",
       "      <th>created_utc</th>\n",
       "      <th>year</th>\n",
       "    </tr>\n",
       "  </thead>\n",
       "  <tbody>\n",
       "    <tr>\n",
       "      <th>count</th>\n",
       "      <td>1010771.0</td>\n",
       "      <td>1010771.00</td>\n",
       "      <td>1010771.00</td>\n",
       "      <td>1010771.00</td>\n",
       "      <td>1010771</td>\n",
       "      <td>1010771</td>\n",
       "      <td>1010771.00</td>\n",
       "    </tr>\n",
       "    <tr>\n",
       "      <th>mean</th>\n",
       "      <td>0.5</td>\n",
       "      <td>6.89</td>\n",
       "      <td>5.50</td>\n",
       "      <td>-0.15</td>\n",
       "      <td>2015-07-20 04:43:36.877612032</td>\n",
       "      <td>2015-08-04 10:52:45.726407424</td>\n",
       "      <td>2015.04</td>\n",
       "    </tr>\n",
       "    <tr>\n",
       "      <th>min</th>\n",
       "      <td>0.0</td>\n",
       "      <td>-507.00</td>\n",
       "      <td>-507.00</td>\n",
       "      <td>-1.00</td>\n",
       "      <td>2009-01-01 00:00:00</td>\n",
       "      <td>2009-01-01 23:08:43</td>\n",
       "      <td>2009.00</td>\n",
       "    </tr>\n",
       "    <tr>\n",
       "      <th>25%</th>\n",
       "      <td>0.0</td>\n",
       "      <td>1.00</td>\n",
       "      <td>0.00</td>\n",
       "      <td>0.00</td>\n",
       "      <td>2015-01-01 00:00:00</td>\n",
       "      <td>2015-01-08 16:44:59</td>\n",
       "      <td>2015.00</td>\n",
       "    </tr>\n",
       "    <tr>\n",
       "      <th>50%</th>\n",
       "      <td>0.0</td>\n",
       "      <td>2.00</td>\n",
       "      <td>1.00</td>\n",
       "      <td>0.00</td>\n",
       "      <td>2015-11-01 00:00:00</td>\n",
       "      <td>2015-11-30 20:32:24</td>\n",
       "      <td>2015.00</td>\n",
       "    </tr>\n",
       "    <tr>\n",
       "      <th>75%</th>\n",
       "      <td>1.0</td>\n",
       "      <td>4.00</td>\n",
       "      <td>3.00</td>\n",
       "      <td>0.00</td>\n",
       "      <td>2016-07-01 00:00:00</td>\n",
       "      <td>2016-07-15 13:18:38.500000</td>\n",
       "      <td>2016.00</td>\n",
       "    </tr>\n",
       "    <tr>\n",
       "      <th>max</th>\n",
       "      <td>1.0</td>\n",
       "      <td>9070.00</td>\n",
       "      <td>5163.00</td>\n",
       "      <td>0.00</td>\n",
       "      <td>2016-12-01 00:00:00</td>\n",
       "      <td>2016-12-31 23:58:26</td>\n",
       "      <td>2016.00</td>\n",
       "    </tr>\n",
       "    <tr>\n",
       "      <th>std</th>\n",
       "      <td>0.5</td>\n",
       "      <td>48.34</td>\n",
       "      <td>41.27</td>\n",
       "      <td>0.35</td>\n",
       "      <td>NaN</td>\n",
       "      <td>NaN</td>\n",
       "      <td>1.22</td>\n",
       "    </tr>\n",
       "  </tbody>\n",
       "</table>\n",
       "</div>"
      ],
      "text/plain": [
       "           label       score         ups       downs  \\\n",
       "count  1010771.0  1010771.00  1010771.00  1010771.00   \n",
       "mean         0.5        6.89        5.50       -0.15   \n",
       "min          0.0     -507.00     -507.00       -1.00   \n",
       "25%          0.0        1.00        0.00        0.00   \n",
       "50%          0.0        2.00        1.00        0.00   \n",
       "75%          1.0        4.00        3.00        0.00   \n",
       "max          1.0     9070.00     5163.00        0.00   \n",
       "std          0.5       48.34       41.27        0.35   \n",
       "\n",
       "                                date                    created_utc  \\\n",
       "count                        1010771                        1010771   \n",
       "mean   2015-07-20 04:43:36.877612032  2015-08-04 10:52:45.726407424   \n",
       "min              2009-01-01 00:00:00            2009-01-01 23:08:43   \n",
       "25%              2015-01-01 00:00:00            2015-01-08 16:44:59   \n",
       "50%              2015-11-01 00:00:00            2015-11-30 20:32:24   \n",
       "75%              2016-07-01 00:00:00     2016-07-15 13:18:38.500000   \n",
       "max              2016-12-01 00:00:00            2016-12-31 23:58:26   \n",
       "std                              NaN                            NaN   \n",
       "\n",
       "             year  \n",
       "count  1010771.00  \n",
       "mean      2015.04  \n",
       "min       2009.00  \n",
       "25%       2015.00  \n",
       "50%       2015.00  \n",
       "75%       2016.00  \n",
       "max       2016.00  \n",
       "std          1.22  "
      ]
     },
     "execution_count": 56,
     "metadata": {},
     "output_type": "execute_result"
    }
   ],
   "source": [
    "df.describe().round(2)"
   ]
  },
  {
   "cell_type": "markdown",
   "id": "ad42284c",
   "metadata": {},
   "source": [
    "Immediately what stands out is that score has a 75% value of 4, yet a max of 9070. Likewise, Ups has a 75% value of 3, yet has a max of 5163. Let's dig deeper into score"
   ]
  },
  {
   "cell_type": "code",
   "execution_count": 57,
   "id": "c2000acb",
   "metadata": {},
   "outputs": [
    {
     "data": {
      "text/plain": [
       "score\n",
       "1       339997\n",
       "2       162669\n",
       "3        90285\n",
       "0        58141\n",
       "4        41978\n",
       "         ...  \n",
       "1803         1\n",
       "1299         1\n",
       "2104         1\n",
       "1709         1\n",
       "1015         1\n",
       "Name: count, Length: 1291, dtype: int64"
      ]
     },
     "execution_count": 57,
     "metadata": {},
     "output_type": "execute_result"
    }
   ],
   "source": [
    "df['score'].value_counts()"
   ]
  },
  {
   "cell_type": "markdown",
   "id": "7ad55d9a",
   "metadata": {},
   "source": [
    "Let's see if we can see how much of our data is between a score of -200 and 200"
   ]
  },
  {
   "cell_type": "code",
   "execution_count": 58,
   "id": "c0c62d46",
   "metadata": {},
   "outputs": [
    {
     "data": {
      "text/plain": [
       "<Axes: >"
      ]
     },
     "execution_count": 58,
     "metadata": {},
     "output_type": "execute_result"
    },
    {
     "data": {
      "image/png": "[encoded data removed]",
      "text/plain": [
       "<Figure size 640x480 with 1 Axes>"
      ]
     },
     "metadata": {},
     "output_type": "display_data"
    }
   ],
   "source": [
    "df[(df['score'] > -200) & (df['score']<200)]['score'].hist(bins=20)\n"
   ]
  },
  {
   "cell_type": "markdown",
   "id": "b6cee417",
   "metadata": {},
   "source": [
    "We're starting to see a more normal distribution. Let's narrow it down between -20 and 20"
   ]
  },
  {
   "cell_type": "code",
   "execution_count": 59,
   "id": "221f779f",
   "metadata": {},
   "outputs": [
    {
     "data": {
      "text/plain": [
       "<Axes: >"
      ]
     },
     "execution_count": 59,
     "metadata": {},
     "output_type": "execute_result"
    },
    {
     "data": {
      "image/png": "[encoded data removed]",
      "text/plain": [
       "<Figure size 640x480 with 1 Axes>"
      ]
     },
     "metadata": {},
     "output_type": "display_data"
    }
   ],
   "source": [
    "df[(df['score'] > -20) & (df['score']<20)]['score'].hist(bins=20)"
   ]
  },
  {
   "cell_type": "markdown",
   "id": "7de89f54",
   "metadata": {},
   "source": [
    "Now we are getting a normal distribution for our data! Let's see how many datapoints are between these score values"
   ]
  },
  {
   "cell_type": "code",
   "execution_count": 60,
   "id": "abdea432",
   "metadata": {},
   "outputs": [
    {
     "data": {
      "text/plain": [
       "0.9388753733536083"
      ]
     },
     "execution_count": 60,
     "metadata": {},
     "output_type": "execute_result"
    }
   ],
   "source": [
    "len(df[(df['score'] > -20) & (df['score']<20)])/len(df)"
   ]
  },
  {
   "cell_type": "markdown",
   "id": "0a089860",
   "metadata": {},
   "source": [
    "Nearly 94%! Interesting! Working with this part of our data gives us a normal distribution and reduces data points. Let's dive deeper into it"
   ]
  },
  {
   "cell_type": "code",
   "execution_count": 61,
   "id": "70c7e29b",
   "metadata": {},
   "outputs": [],
   "source": [
    "df_2 = df[(df['score'] > -20) & (df['score']<20)]"
   ]
  },
  {
   "cell_type": "code",
   "execution_count": 62,
   "id": "c0867547",
   "metadata": {},
   "outputs": [
    {
     "data": {
      "text/html": [
       "<div>\n",
       "<style scoped>\n",
       "    .dataframe tbody tr th:only-of-type {\n",
       "        vertical-align: middle;\n",
       "    }\n",
       "\n",
       "    .dataframe tbody tr th {\n",
       "        vertical-align: top;\n",
       "    }\n",
       "\n",
       "    .dataframe thead th {\n",
       "        text-align: right;\n",
       "    }\n",
       "</style>\n",
       "<table border=\"1\" class=\"dataframe\">\n",
       "  <thead>\n",
       "    <tr style=\"text-align: right;\">\n",
       "      <th></th>\n",
       "      <th>label</th>\n",
       "      <th>score</th>\n",
       "      <th>ups</th>\n",
       "      <th>downs</th>\n",
       "      <th>date</th>\n",
       "      <th>created_utc</th>\n",
       "      <th>year</th>\n",
       "    </tr>\n",
       "  </thead>\n",
       "  <tbody>\n",
       "    <tr>\n",
       "      <th>count</th>\n",
       "      <td>948988.0</td>\n",
       "      <td>948988.00</td>\n",
       "      <td>948988.00</td>\n",
       "      <td>948988.00</td>\n",
       "      <td>948988</td>\n",
       "      <td>948988</td>\n",
       "      <td>948988.00</td>\n",
       "    </tr>\n",
       "    <tr>\n",
       "      <th>mean</th>\n",
       "      <td>0.5</td>\n",
       "      <td>2.68</td>\n",
       "      <td>2.11</td>\n",
       "      <td>-0.14</td>\n",
       "      <td>2015-07-17 04:00:20.060107008</td>\n",
       "      <td>2015-08-01 09:58:15.330801920</td>\n",
       "      <td>2015.03</td>\n",
       "    </tr>\n",
       "    <tr>\n",
       "      <th>min</th>\n",
       "      <td>0.0</td>\n",
       "      <td>-19.00</td>\n",
       "      <td>-19.00</td>\n",
       "      <td>-1.00</td>\n",
       "      <td>2009-01-01 00:00:00</td>\n",
       "      <td>2009-01-01 23:08:43</td>\n",
       "      <td>2009.00</td>\n",
       "    </tr>\n",
       "    <tr>\n",
       "      <th>25%</th>\n",
       "      <td>0.0</td>\n",
       "      <td>1.00</td>\n",
       "      <td>0.00</td>\n",
       "      <td>0.00</td>\n",
       "      <td>2015-01-01 00:00:00</td>\n",
       "      <td>2015-01-05 12:01:23.249999872</td>\n",
       "      <td>2015.00</td>\n",
       "    </tr>\n",
       "    <tr>\n",
       "      <th>50%</th>\n",
       "      <td>0.0</td>\n",
       "      <td>2.00</td>\n",
       "      <td>1.00</td>\n",
       "      <td>0.00</td>\n",
       "      <td>2015-11-01 00:00:00</td>\n",
       "      <td>2015-11-28 06:42:48</td>\n",
       "      <td>2015.00</td>\n",
       "    </tr>\n",
       "    <tr>\n",
       "      <th>75%</th>\n",
       "      <td>1.0</td>\n",
       "      <td>3.00</td>\n",
       "      <td>3.00</td>\n",
       "      <td>0.00</td>\n",
       "      <td>2016-07-01 00:00:00</td>\n",
       "      <td>2016-07-13 23:26:03.750000128</td>\n",
       "      <td>2016.00</td>\n",
       "    </tr>\n",
       "    <tr>\n",
       "      <th>max</th>\n",
       "      <td>1.0</td>\n",
       "      <td>19.00</td>\n",
       "      <td>19.00</td>\n",
       "      <td>0.00</td>\n",
       "      <td>2016-12-01 00:00:00</td>\n",
       "      <td>2016-12-31 23:58:26</td>\n",
       "      <td>2016.00</td>\n",
       "    </tr>\n",
       "    <tr>\n",
       "      <th>std</th>\n",
       "      <td>0.5</td>\n",
       "      <td>4.03</td>\n",
       "      <td>3.94</td>\n",
       "      <td>0.35</td>\n",
       "      <td>NaN</td>\n",
       "      <td>NaN</td>\n",
       "      <td>1.23</td>\n",
       "    </tr>\n",
       "  </tbody>\n",
       "</table>\n",
       "</div>"
      ],
      "text/plain": [
       "          label      score        ups      downs  \\\n",
       "count  948988.0  948988.00  948988.00  948988.00   \n",
       "mean        0.5       2.68       2.11      -0.14   \n",
       "min         0.0     -19.00     -19.00      -1.00   \n",
       "25%         0.0       1.00       0.00       0.00   \n",
       "50%         0.0       2.00       1.00       0.00   \n",
       "75%         1.0       3.00       3.00       0.00   \n",
       "max         1.0      19.00      19.00       0.00   \n",
       "std         0.5       4.03       3.94       0.35   \n",
       "\n",
       "                                date                    created_utc       year  \n",
       "count                         948988                         948988  948988.00  \n",
       "mean   2015-07-17 04:00:20.060107008  2015-08-01 09:58:15.330801920    2015.03  \n",
       "min              2009-01-01 00:00:00            2009-01-01 23:08:43    2009.00  \n",
       "25%              2015-01-01 00:00:00  2015-01-05 12:01:23.249999872    2015.00  \n",
       "50%              2015-11-01 00:00:00            2015-11-28 06:42:48    2015.00  \n",
       "75%              2016-07-01 00:00:00  2016-07-13 23:26:03.750000128    2016.00  \n",
       "max              2016-12-01 00:00:00            2016-12-31 23:58:26    2016.00  \n",
       "std                              NaN                            NaN       1.23  "
      ]
     },
     "execution_count": 62,
     "metadata": {},
     "output_type": "execute_result"
    }
   ],
   "source": [
    "df_2.describe().round(2)"
   ]
  },
  {
   "cell_type": "markdown",
   "id": "c6ca3ccf",
   "metadata": {},
   "source": [
    "These are much more reasonable values"
   ]
  },
  {
   "cell_type": "markdown",
   "id": "9d577a49",
   "metadata": {},
   "source": [
    "Now our new dataframe has more values within a reasonable frame. This did seem to remove nearly half of our data which is a bit worrisome, though. Let's check how our label value counts look now"
   ]
  },
  {
   "cell_type": "code",
   "execution_count": 63,
   "id": "d4ee54ac",
   "metadata": {},
   "outputs": [
    {
     "data": {
      "text/plain": [
       "label\n",
       "0    475876\n",
       "1    473112\n",
       "Name: count, dtype: int64"
      ]
     },
     "execution_count": 63,
     "metadata": {},
     "output_type": "execute_result"
    }
   ],
   "source": [
    "df_2['label'].value_counts()"
   ]
  },
  {
   "cell_type": "markdown",
   "id": "8c5c4bdd",
   "metadata": {},
   "source": [
    "Now our dataframe has a bit larger percent of non sarcastic comments rather than sarcastic, but still seems to be reasonably near to each other"
   ]
  },
  {
   "cell_type": "markdown",
   "id": "4a1547e4",
   "metadata": {},
   "source": [
    "Let's recheck our year over year change with our new dataframe and this time plot it"
   ]
  },
  {
   "cell_type": "code",
   "execution_count": 64,
   "id": "c36d4b27",
   "metadata": {},
   "outputs": [
    {
     "name": "stderr",
     "output_type": "stream",
     "text": [
      "/var/folders/p3/9brtldpx18s3wvmp6_8sq07r0000gn/T/ipykernel_49899/4278385926.py:1: SettingWithCopyWarning: \n",
      "A value is trying to be set on a copy of a slice from a DataFrame.\n",
      "Try using .loc[row_indexer,col_indexer] = value instead\n",
      "\n",
      "See the caveats in the documentation: https://pandas.pydata.org/pandas-docs/stable/user_guide/indexing.html#returning-a-view-versus-a-copy\n",
      "  df_2['year'] = df_2['date'].dt.year\n"
     ]
    },
    {
     "data": {
      "text/html": [
       "<div>\n",
       "<style scoped>\n",
       "    .dataframe tbody tr th:only-of-type {\n",
       "        vertical-align: middle;\n",
       "    }\n",
       "\n",
       "    .dataframe tbody tr th {\n",
       "        vertical-align: top;\n",
       "    }\n",
       "\n",
       "    .dataframe thead th {\n",
       "        text-align: right;\n",
       "    }\n",
       "</style>\n",
       "<table border=\"1\" class=\"dataframe\">\n",
       "  <thead>\n",
       "    <tr style=\"text-align: right;\">\n",
       "      <th></th>\n",
       "      <th>year</th>\n",
       "      <th>label</th>\n",
       "      <th>count</th>\n",
       "    </tr>\n",
       "  </thead>\n",
       "  <tbody>\n",
       "    <tr>\n",
       "      <th>0</th>\n",
       "      <td>2009</td>\n",
       "      <td>0</td>\n",
       "      <td>734</td>\n",
       "    </tr>\n",
       "    <tr>\n",
       "      <th>1</th>\n",
       "      <td>2009</td>\n",
       "      <td>1</td>\n",
       "      <td>1068</td>\n",
       "    </tr>\n",
       "    <tr>\n",
       "      <th>2</th>\n",
       "      <td>2010</td>\n",
       "      <td>0</td>\n",
       "      <td>2226</td>\n",
       "    </tr>\n",
       "    <tr>\n",
       "      <th>3</th>\n",
       "      <td>2010</td>\n",
       "      <td>1</td>\n",
       "      <td>2906</td>\n",
       "    </tr>\n",
       "    <tr>\n",
       "      <th>4</th>\n",
       "      <td>2011</td>\n",
       "      <td>0</td>\n",
       "      <td>5570</td>\n",
       "    </tr>\n",
       "    <tr>\n",
       "      <th>5</th>\n",
       "      <td>2011</td>\n",
       "      <td>1</td>\n",
       "      <td>6752</td>\n",
       "    </tr>\n",
       "    <tr>\n",
       "      <th>6</th>\n",
       "      <td>2012</td>\n",
       "      <td>0</td>\n",
       "      <td>12082</td>\n",
       "    </tr>\n",
       "    <tr>\n",
       "      <th>7</th>\n",
       "      <td>2012</td>\n",
       "      <td>1</td>\n",
       "      <td>13932</td>\n",
       "    </tr>\n",
       "    <tr>\n",
       "      <th>8</th>\n",
       "      <td>2013</td>\n",
       "      <td>0</td>\n",
       "      <td>27768</td>\n",
       "    </tr>\n",
       "    <tr>\n",
       "      <th>9</th>\n",
       "      <td>2013</td>\n",
       "      <td>1</td>\n",
       "      <td>32303</td>\n",
       "    </tr>\n",
       "    <tr>\n",
       "      <th>10</th>\n",
       "      <td>2014</td>\n",
       "      <td>0</td>\n",
       "      <td>60596</td>\n",
       "    </tr>\n",
       "    <tr>\n",
       "      <th>11</th>\n",
       "      <td>2014</td>\n",
       "      <td>1</td>\n",
       "      <td>68994</td>\n",
       "    </tr>\n",
       "    <tr>\n",
       "      <th>12</th>\n",
       "      <td>2015</td>\n",
       "      <td>0</td>\n",
       "      <td>129715</td>\n",
       "    </tr>\n",
       "    <tr>\n",
       "      <th>13</th>\n",
       "      <td>2015</td>\n",
       "      <td>1</td>\n",
       "      <td>139761</td>\n",
       "    </tr>\n",
       "    <tr>\n",
       "      <th>14</th>\n",
       "      <td>2016</td>\n",
       "      <td>0</td>\n",
       "      <td>237185</td>\n",
       "    </tr>\n",
       "    <tr>\n",
       "      <th>15</th>\n",
       "      <td>2016</td>\n",
       "      <td>1</td>\n",
       "      <td>207396</td>\n",
       "    </tr>\n",
       "  </tbody>\n",
       "</table>\n",
       "</div>"
      ],
      "text/plain": [
       "    year  label   count\n",
       "0   2009      0     734\n",
       "1   2009      1    1068\n",
       "2   2010      0    2226\n",
       "3   2010      1    2906\n",
       "4   2011      0    5570\n",
       "5   2011      1    6752\n",
       "6   2012      0   12082\n",
       "7   2012      1   13932\n",
       "8   2013      0   27768\n",
       "9   2013      1   32303\n",
       "10  2014      0   60596\n",
       "11  2014      1   68994\n",
       "12  2015      0  129715\n",
       "13  2015      1  139761\n",
       "14  2016      0  237185\n",
       "15  2016      1  207396"
      ]
     },
     "execution_count": 64,
     "metadata": {},
     "output_type": "execute_result"
    }
   ],
   "source": [
    "df_2['year'] = df_2['date'].dt.year\n",
    "label_per_year = df_2.groupby(['year', 'label']).size().reset_index(name='count')\n",
    "label_per_year"
   ]
  },
  {
   "cell_type": "code",
   "execution_count": 65,
   "id": "be309650",
   "metadata": {},
   "outputs": [
    {
     "data": {
      "image/png": "[encoded data removed]",
      "text/plain": [
       "<Figure size 1000x600 with 1 Axes>"
      ]
     },
     "metadata": {},
     "output_type": "display_data"
    }
   ],
   "source": [
    "plt.figure(figsize=(10, 6))\n",
    "sns.barplot(x='year', y='count', hue='label', data=label_per_year)\n",
    "plt.xlabel('Year')\n",
    "plt.ylabel('Count')\n",
    "plt.title('Label Counts by Year')\n",
    "plt.legend()\n",
    "plt.show()"
   ]
  },
  {
   "cell_type": "markdown",
   "id": "87221b27",
   "metadata": {},
   "source": [
    "Here we can see a similar trend as before: There are a total number of comments each year, and also there are more sarcastic comments after every year. "
   ]
  },
  {
   "cell_type": "markdown",
   "id": "8f1b4185",
   "metadata": {},
   "source": [
    "Why don't we look further into comments. How about how many comments consist only of numeric values? Let's use regex to do this"
   ]
  },
  {
   "cell_type": "code",
   "execution_count": 66,
   "id": "582356e6",
   "metadata": {},
   "outputs": [
    {
     "data": {
      "text/plain": [
       "522"
      ]
     },
     "execution_count": 66,
     "metadata": {},
     "output_type": "execute_result"
    }
   ],
   "source": [
    "numeric_comments_mask = df_2['comment'].str.match(r'^\\d+$')\n",
    "numeric_comments_count = numeric_comments_mask.sum()\n",
    "numeric_comments_count"
   ]
  },
  {
   "cell_type": "markdown",
   "id": "2b6bc850",
   "metadata": {},
   "source": [
    "This is a low number of comments. Let's see how many are sarcastic"
   ]
  },
  {
   "cell_type": "code",
   "execution_count": 67,
   "id": "a79a8c4c",
   "metadata": {},
   "outputs": [
    {
     "name": "stdout",
     "output_type": "stream",
     "text": [
      "   label  numeric_comments_count\n",
      "0      0                     481\n",
      "1      1                      41\n"
     ]
    }
   ],
   "source": [
    "numeric_comments_mask = df_2['comment'].str.match(r'^\\d+$')\n",
    "numeric_comments_count_by_label = df_2.groupby('label')['comment'].apply(lambda x: (x.str.match(r'^\\d+$')).sum()).reset_index(name='numeric_comments_count')\n",
    "\n",
    "# Display the result\n",
    "print(numeric_comments_count_by_label)"
   ]
  },
  {
   "cell_type": "markdown",
   "id": "a57ec8d8",
   "metadata": {},
   "source": [
    "Some are sarcastic while most are not. Interesting that just numeric answers can be sarcastic. Let's leave this in the dataset so our model has a better idea on how to deal with these answers"
   ]
  },
  {
   "cell_type": "markdown",
   "id": "5af71b85",
   "metadata": {},
   "source": [
    "Next let's look at how many up votes are associated with sarcastic and non sarcastic comments"
   ]
  },
  {
   "cell_type": "code",
   "execution_count": 68,
   "id": "9ddd8a7a",
   "metadata": {},
   "outputs": [
    {
     "data": {
      "text/html": [
       "<div>\n",
       "<style scoped>\n",
       "    .dataframe tbody tr th:only-of-type {\n",
       "        vertical-align: middle;\n",
       "    }\n",
       "\n",
       "    .dataframe tbody tr th {\n",
       "        vertical-align: top;\n",
       "    }\n",
       "\n",
       "    .dataframe thead th {\n",
       "        text-align: right;\n",
       "    }\n",
       "</style>\n",
       "<table border=\"1\" class=\"dataframe\">\n",
       "  <thead>\n",
       "    <tr style=\"text-align: right;\">\n",
       "      <th></th>\n",
       "      <th>label</th>\n",
       "      <th>ups</th>\n",
       "    </tr>\n",
       "  </thead>\n",
       "  <tbody>\n",
       "    <tr>\n",
       "      <th>0</th>\n",
       "      <td>0</td>\n",
       "      <td>974638</td>\n",
       "    </tr>\n",
       "    <tr>\n",
       "      <th>1</th>\n",
       "      <td>1</td>\n",
       "      <td>1025122</td>\n",
       "    </tr>\n",
       "  </tbody>\n",
       "</table>\n",
       "</div>"
      ],
      "text/plain": [
       "   label      ups\n",
       "0      0   974638\n",
       "1      1  1025122"
      ]
     },
     "execution_count": 68,
     "metadata": {},
     "output_type": "execute_result"
    }
   ],
   "source": [
    "df_2.groupby('label')['ups'].sum().reset_index()"
   ]
  },
  {
   "cell_type": "code",
   "execution_count": 73,
   "id": "4db8e142",
   "metadata": {},
   "outputs": [
    {
     "data": {
      "image/png": "[encoded data removed]",
      "text/plain": [
       "<Figure size 640x480 with 1 Axes>"
      ]
     },
     "metadata": {},
     "output_type": "display_data"
    }
   ],
   "source": [
    "label_by_ups = df_2.groupby('label')['ups'].sum().reset_index()\n",
    "\n",
    "sns.barplot(x='label', y='ups', data=label_by_ups)\n",
    "plt.xlabel('label')\n",
    "plt.ylabel('ups')\n",
    "plt.title('Label by Count of Up Votes')\n",
    "plt.show()"
   ]
  },
  {
   "cell_type": "markdown",
   "id": "88e7678d",
   "metadata": {},
   "source": [
    "This shows that  sarcastic comments have more slightly more upvotes"
   ]
  },
  {
   "cell_type": "markdown",
   "id": "b5551a12",
   "metadata": {},
   "source": [
    "Now let's look at the down votes"
   ]
  },
  {
   "cell_type": "code",
   "execution_count": 74,
   "id": "904a79bc",
   "metadata": {},
   "outputs": [
    {
     "data": {
      "image/png": "[encoded data removed]",
      "text/plain": [
       "<Figure size 640x480 with 1 Axes>"
      ]
     },
     "metadata": {},
     "output_type": "display_data"
    }
   ],
   "source": [
    "label_by_downs = df_2.groupby('label')['downs'].sum().reset_index()\n",
    "\n",
    "sns.barplot(x='label', y='downs', data=label_by_downs)\n",
    "plt.xlabel('Label')\n",
    "plt.ylabel('Down Votes')\n",
    "plt.title(\"Count of Down Votes by Label\")\n",
    "plt.show()"
   ]
  },
  {
   "cell_type": "markdown",
   "id": "d5867206",
   "metadata": {},
   "source": [
    "Non sarcastic comments seem to have much more down votes. This could be an indicator that upvotes are related to sarcasm. Let's remember this when we do our modeling"
   ]
  },
  {
   "cell_type": "markdown",
   "id": "fa210e50",
   "metadata": {},
   "source": [
    "There's a chance that the subreddit has a strong correlation with whether the comment is sarcastic or not. Let's look into it."
   ]
  },
  {
   "cell_type": "code",
   "execution_count": 71,
   "id": "de1f2f40",
   "metadata": {},
   "outputs": [
    {
     "data": {
      "text/plain": [
       "subreddit\n",
       "AskReddit          62463\n",
       "politics           37314\n",
       "worldnews          24811\n",
       "leagueoflegends    19856\n",
       "pcmasterrace       17789\n",
       "                   ...  \n",
       "manganews              1\n",
       "TheGreatWar            1\n",
       "golfwithfriends        1\n",
       "FrugalTO               1\n",
       "Pandemic               1\n",
       "Name: count, Length: 14834, dtype: int64"
      ]
     },
     "execution_count": 71,
     "metadata": {},
     "output_type": "execute_result"
    }
   ],
   "source": [
    "df_2['subreddit'].value_counts()"
   ]
  },
  {
   "cell_type": "code",
   "execution_count": 75,
   "id": "5179bca3",
   "metadata": {},
   "outputs": [
    {
     "data": {
      "text/plain": [
       "subreddit\n",
       "AskReddit           62463\n",
       "politics            37314\n",
       "worldnews           24811\n",
       "leagueoflegends     19856\n",
       "pcmasterrace        17789\n",
       "                    ...  \n",
       "TwoXChromosomes      1437\n",
       "ukpolitics           1420\n",
       "Futurology           1417\n",
       "NoMansSkyTheGame     1414\n",
       "Eve                  1408\n",
       "Name: count, Length: 100, dtype: int64"
      ]
     },
     "execution_count": 75,
     "metadata": {},
     "output_type": "execute_result"
    }
   ],
   "source": [
    "df_2['subreddit'].value_counts().head(100)"
   ]
  },
  {
   "cell_type": "markdown",
   "id": "161dfc3e",
   "metadata": {},
   "source": [
    "There are many subreddits. Perhaps if we play with the top 100 subreddits we can dive deeper into our analysis"
   ]
  },
  {
   "cell_type": "code",
   "execution_count": 76,
   "id": "060d898c",
   "metadata": {},
   "outputs": [
    {
     "data": {
      "text/plain": [
       "subreddit\n",
       "AskReddit           62463\n",
       "politics            37314\n",
       "worldnews           24811\n",
       "leagueoflegends     19856\n",
       "pcmasterrace        17789\n",
       "                    ...  \n",
       "TwoXChromosomes      1437\n",
       "ukpolitics           1420\n",
       "Futurology           1417\n",
       "NoMansSkyTheGame     1414\n",
       "Eve                  1408\n",
       "Name: count, Length: 100, dtype: int64"
      ]
     },
     "execution_count": 76,
     "metadata": {},
     "output_type": "execute_result"
    }
   ],
   "source": [
    "top_values = df_2['subreddit'].value_counts().head(100)\n",
    "# Create a mask to filter the original dataframe based on the top values\n",
    "mask = df_2['subreddit'].isin(top_values.index)\n",
    "# Create a new dataframe with all columns but only rows where the 'column_name' is in the top 100\n",
    "df_new = df_2[mask]\n",
    "\n",
    "df_new['subreddit'].value_counts()"
   ]
  },
  {
   "cell_type": "markdown",
   "id": "b22c4941",
   "metadata": {},
   "source": [
    "We have successfully reduced the subreddits to the top 100 instances. Now let's create dummy variables for these"
   ]
  },
  {
   "cell_type": "code",
   "execution_count": 78,
   "id": "54423eca",
   "metadata": {},
   "outputs": [
    {
     "data": {
      "text/html": [
       "<div>\n",
       "<style scoped>\n",
       "    .dataframe tbody tr th:only-of-type {\n",
       "        vertical-align: middle;\n",
       "    }\n",
       "\n",
       "    .dataframe tbody tr th {\n",
       "        vertical-align: top;\n",
       "    }\n",
       "\n",
       "    .dataframe thead th {\n",
       "        text-align: right;\n",
       "    }\n",
       "</style>\n",
       "<table border=\"1\" class=\"dataframe\">\n",
       "  <thead>\n",
       "    <tr style=\"text-align: right;\">\n",
       "      <th></th>\n",
       "      <th>label</th>\n",
       "      <th>comment</th>\n",
       "      <th>subreddit</th>\n",
       "      <th>score</th>\n",
       "      <th>ups</th>\n",
       "      <th>downs</th>\n",
       "      <th>date</th>\n",
       "      <th>created_utc</th>\n",
       "      <th>parent_comment</th>\n",
       "      <th>year</th>\n",
       "      <th>...</th>\n",
       "      <th>SUB_television</th>\n",
       "      <th>SUB_tf2</th>\n",
       "      <th>SUB_todayilearned</th>\n",
       "      <th>SUB_trees</th>\n",
       "      <th>SUB_ukpolitics</th>\n",
       "      <th>SUB_unitedkingdom</th>\n",
       "      <th>SUB_videos</th>\n",
       "      <th>SUB_worldnews</th>\n",
       "      <th>SUB_wow</th>\n",
       "      <th>SUB_xboxone</th>\n",
       "    </tr>\n",
       "  </thead>\n",
       "  <tbody>\n",
       "    <tr>\n",
       "      <th>0</th>\n",
       "      <td>0</td>\n",
       "      <td>NC and NH.</td>\n",
       "      <td>politics</td>\n",
       "      <td>2</td>\n",
       "      <td>-1</td>\n",
       "      <td>-1</td>\n",
       "      <td>2016-10-01</td>\n",
       "      <td>2016-10-16 23:55:23</td>\n",
       "      <td>Yeah, I get that argument. At this point, I'd ...</td>\n",
       "      <td>2016</td>\n",
       "      <td>...</td>\n",
       "      <td>False</td>\n",
       "      <td>False</td>\n",
       "      <td>False</td>\n",
       "      <td>False</td>\n",
       "      <td>False</td>\n",
       "      <td>False</td>\n",
       "      <td>False</td>\n",
       "      <td>False</td>\n",
       "      <td>False</td>\n",
       "      <td>False</td>\n",
       "    </tr>\n",
       "    <tr>\n",
       "      <th>1</th>\n",
       "      <td>0</td>\n",
       "      <td>You do know west teams play against west teams...</td>\n",
       "      <td>nba</td>\n",
       "      <td>-4</td>\n",
       "      <td>-1</td>\n",
       "      <td>-1</td>\n",
       "      <td>2016-11-01</td>\n",
       "      <td>2016-11-01 00:24:10</td>\n",
       "      <td>The blazers and Mavericks (The wests 5 and 6 s...</td>\n",
       "      <td>2016</td>\n",
       "      <td>...</td>\n",
       "      <td>False</td>\n",
       "      <td>False</td>\n",
       "      <td>False</td>\n",
       "      <td>False</td>\n",
       "      <td>False</td>\n",
       "      <td>False</td>\n",
       "      <td>False</td>\n",
       "      <td>False</td>\n",
       "      <td>False</td>\n",
       "      <td>False</td>\n",
       "    </tr>\n",
       "    <tr>\n",
       "      <th>2</th>\n",
       "      <td>0</td>\n",
       "      <td>They were underdogs earlier today, but since G...</td>\n",
       "      <td>nfl</td>\n",
       "      <td>3</td>\n",
       "      <td>3</td>\n",
       "      <td>0</td>\n",
       "      <td>2016-09-01</td>\n",
       "      <td>2016-09-22 21:45:37</td>\n",
       "      <td>They're favored to win.</td>\n",
       "      <td>2016</td>\n",
       "      <td>...</td>\n",
       "      <td>False</td>\n",
       "      <td>False</td>\n",
       "      <td>False</td>\n",
       "      <td>False</td>\n",
       "      <td>False</td>\n",
       "      <td>False</td>\n",
       "      <td>False</td>\n",
       "      <td>False</td>\n",
       "      <td>False</td>\n",
       "      <td>False</td>\n",
       "    </tr>\n",
       "    <tr>\n",
       "      <th>3</th>\n",
       "      <td>0</td>\n",
       "      <td>This meme isn't funny none of the \"new york ni...</td>\n",
       "      <td>BlackPeopleTwitter</td>\n",
       "      <td>-8</td>\n",
       "      <td>-1</td>\n",
       "      <td>-1</td>\n",
       "      <td>2016-10-01</td>\n",
       "      <td>2016-10-18 21:03:47</td>\n",
       "      <td>deadass don't kill my buzz</td>\n",
       "      <td>2016</td>\n",
       "      <td>...</td>\n",
       "      <td>False</td>\n",
       "      <td>False</td>\n",
       "      <td>False</td>\n",
       "      <td>False</td>\n",
       "      <td>False</td>\n",
       "      <td>False</td>\n",
       "      <td>False</td>\n",
       "      <td>False</td>\n",
       "      <td>False</td>\n",
       "      <td>False</td>\n",
       "    </tr>\n",
       "    <tr>\n",
       "      <th>5</th>\n",
       "      <td>0</td>\n",
       "      <td>I don't pay attention to her, but as long as s...</td>\n",
       "      <td>AskReddit</td>\n",
       "      <td>0</td>\n",
       "      <td>0</td>\n",
       "      <td>0</td>\n",
       "      <td>2016-09-01</td>\n",
       "      <td>2016-09-02 10:35:08</td>\n",
       "      <td>do you find ariana grande sexy ?</td>\n",
       "      <td>2016</td>\n",
       "      <td>...</td>\n",
       "      <td>False</td>\n",
       "      <td>False</td>\n",
       "      <td>False</td>\n",
       "      <td>False</td>\n",
       "      <td>False</td>\n",
       "      <td>False</td>\n",
       "      <td>False</td>\n",
       "      <td>False</td>\n",
       "      <td>False</td>\n",
       "      <td>False</td>\n",
       "    </tr>\n",
       "  </tbody>\n",
       "</table>\n",
       "<p>5 rows × 110 columns</p>\n",
       "</div>"
      ],
      "text/plain": [
       "   label                                            comment  \\\n",
       "0      0                                         NC and NH.   \n",
       "1      0  You do know west teams play against west teams...   \n",
       "2      0  They were underdogs earlier today, but since G...   \n",
       "3      0  This meme isn't funny none of the \"new york ni...   \n",
       "5      0  I don't pay attention to her, but as long as s...   \n",
       "\n",
       "            subreddit  score  ups  downs       date         created_utc  \\\n",
       "0            politics      2   -1     -1 2016-10-01 2016-10-16 23:55:23   \n",
       "1                 nba     -4   -1     -1 2016-11-01 2016-11-01 00:24:10   \n",
       "2                 nfl      3    3      0 2016-09-01 2016-09-22 21:45:37   \n",
       "3  BlackPeopleTwitter     -8   -1     -1 2016-10-01 2016-10-18 21:03:47   \n",
       "5           AskReddit      0    0      0 2016-09-01 2016-09-02 10:35:08   \n",
       "\n",
       "                                      parent_comment  year  ...  \\\n",
       "0  Yeah, I get that argument. At this point, I'd ...  2016  ...   \n",
       "1  The blazers and Mavericks (The wests 5 and 6 s...  2016  ...   \n",
       "2                            They're favored to win.  2016  ...   \n",
       "3                         deadass don't kill my buzz  2016  ...   \n",
       "5                   do you find ariana grande sexy ?  2016  ...   \n",
       "\n",
       "   SUB_television  SUB_tf2  SUB_todayilearned  SUB_trees  SUB_ukpolitics  \\\n",
       "0           False    False              False      False           False   \n",
       "1           False    False              False      False           False   \n",
       "2           False    False              False      False           False   \n",
       "3           False    False              False      False           False   \n",
       "5           False    False              False      False           False   \n",
       "\n",
       "   SUB_unitedkingdom  SUB_videos  SUB_worldnews  SUB_wow  SUB_xboxone  \n",
       "0              False       False          False    False        False  \n",
       "1              False       False          False    False        False  \n",
       "2              False       False          False    False        False  \n",
       "3              False       False          False    False        False  \n",
       "5              False       False          False    False        False  \n",
       "\n",
       "[5 rows x 110 columns]"
      ]
     },
     "execution_count": 78,
     "metadata": {},
     "output_type": "execute_result"
    }
   ],
   "source": [
    "dummy_variables = pd.get_dummies(df_new['subreddit'], prefix='SUB')\n",
    "df_new_2 = pd.concat([df_new, dummy_variables], axis=1)\n",
    "\n",
    "df_new_2.head()"
   ]
  },
  {
   "cell_type": "markdown",
   "id": "9f752046",
   "metadata": {},
   "source": [
    "Perfect! Now we can drop the original subreddit column"
   ]
  },
  {
   "cell_type": "code",
   "execution_count": 79,
   "id": "9401f37e",
   "metadata": {},
   "outputs": [
    {
     "data": {
      "text/html": [
       "<div>\n",
       "<style scoped>\n",
       "    .dataframe tbody tr th:only-of-type {\n",
       "        vertical-align: middle;\n",
       "    }\n",
       "\n",
       "    .dataframe tbody tr th {\n",
       "        vertical-align: top;\n",
       "    }\n",
       "\n",
       "    .dataframe thead th {\n",
       "        text-align: right;\n",
       "    }\n",
       "</style>\n",
       "<table border=\"1\" class=\"dataframe\">\n",
       "  <thead>\n",
       "    <tr style=\"text-align: right;\">\n",
       "      <th></th>\n",
       "      <th>label</th>\n",
       "      <th>comment</th>\n",
       "      <th>score</th>\n",
       "      <th>ups</th>\n",
       "      <th>downs</th>\n",
       "      <th>date</th>\n",
       "      <th>created_utc</th>\n",
       "      <th>parent_comment</th>\n",
       "      <th>year</th>\n",
       "      <th>SUB_2007scape</th>\n",
       "      <th>...</th>\n",
       "      <th>SUB_television</th>\n",
       "      <th>SUB_tf2</th>\n",
       "      <th>SUB_todayilearned</th>\n",
       "      <th>SUB_trees</th>\n",
       "      <th>SUB_ukpolitics</th>\n",
       "      <th>SUB_unitedkingdom</th>\n",
       "      <th>SUB_videos</th>\n",
       "      <th>SUB_worldnews</th>\n",
       "      <th>SUB_wow</th>\n",
       "      <th>SUB_xboxone</th>\n",
       "    </tr>\n",
       "  </thead>\n",
       "  <tbody>\n",
       "    <tr>\n",
       "      <th>0</th>\n",
       "      <td>0</td>\n",
       "      <td>NC and NH.</td>\n",
       "      <td>2</td>\n",
       "      <td>-1</td>\n",
       "      <td>-1</td>\n",
       "      <td>2016-10-01</td>\n",
       "      <td>2016-10-16 23:55:23</td>\n",
       "      <td>Yeah, I get that argument. At this point, I'd ...</td>\n",
       "      <td>2016</td>\n",
       "      <td>False</td>\n",
       "      <td>...</td>\n",
       "      <td>False</td>\n",
       "      <td>False</td>\n",
       "      <td>False</td>\n",
       "      <td>False</td>\n",
       "      <td>False</td>\n",
       "      <td>False</td>\n",
       "      <td>False</td>\n",
       "      <td>False</td>\n",
       "      <td>False</td>\n",
       "      <td>False</td>\n",
       "    </tr>\n",
       "    <tr>\n",
       "      <th>1</th>\n",
       "      <td>0</td>\n",
       "      <td>You do know west teams play against west teams...</td>\n",
       "      <td>-4</td>\n",
       "      <td>-1</td>\n",
       "      <td>-1</td>\n",
       "      <td>2016-11-01</td>\n",
       "      <td>2016-11-01 00:24:10</td>\n",
       "      <td>The blazers and Mavericks (The wests 5 and 6 s...</td>\n",
       "      <td>2016</td>\n",
       "      <td>False</td>\n",
       "      <td>...</td>\n",
       "      <td>False</td>\n",
       "      <td>False</td>\n",
       "      <td>False</td>\n",
       "      <td>False</td>\n",
       "      <td>False</td>\n",
       "      <td>False</td>\n",
       "      <td>False</td>\n",
       "      <td>False</td>\n",
       "      <td>False</td>\n",
       "      <td>False</td>\n",
       "    </tr>\n",
       "    <tr>\n",
       "      <th>2</th>\n",
       "      <td>0</td>\n",
       "      <td>They were underdogs earlier today, but since G...</td>\n",
       "      <td>3</td>\n",
       "      <td>3</td>\n",
       "      <td>0</td>\n",
       "      <td>2016-09-01</td>\n",
       "      <td>2016-09-22 21:45:37</td>\n",
       "      <td>They're favored to win.</td>\n",
       "      <td>2016</td>\n",
       "      <td>False</td>\n",
       "      <td>...</td>\n",
       "      <td>False</td>\n",
       "      <td>False</td>\n",
       "      <td>False</td>\n",
       "      <td>False</td>\n",
       "      <td>False</td>\n",
       "      <td>False</td>\n",
       "      <td>False</td>\n",
       "      <td>False</td>\n",
       "      <td>False</td>\n",
       "      <td>False</td>\n",
       "    </tr>\n",
       "    <tr>\n",
       "      <th>3</th>\n",
       "      <td>0</td>\n",
       "      <td>This meme isn't funny none of the \"new york ni...</td>\n",
       "      <td>-8</td>\n",
       "      <td>-1</td>\n",
       "      <td>-1</td>\n",
       "      <td>2016-10-01</td>\n",
       "      <td>2016-10-18 21:03:47</td>\n",
       "      <td>deadass don't kill my buzz</td>\n",
       "      <td>2016</td>\n",
       "      <td>False</td>\n",
       "      <td>...</td>\n",
       "      <td>False</td>\n",
       "      <td>False</td>\n",
       "      <td>False</td>\n",
       "      <td>False</td>\n",
       "      <td>False</td>\n",
       "      <td>False</td>\n",
       "      <td>False</td>\n",
       "      <td>False</td>\n",
       "      <td>False</td>\n",
       "      <td>False</td>\n",
       "    </tr>\n",
       "    <tr>\n",
       "      <th>5</th>\n",
       "      <td>0</td>\n",
       "      <td>I don't pay attention to her, but as long as s...</td>\n",
       "      <td>0</td>\n",
       "      <td>0</td>\n",
       "      <td>0</td>\n",
       "      <td>2016-09-01</td>\n",
       "      <td>2016-09-02 10:35:08</td>\n",
       "      <td>do you find ariana grande sexy ?</td>\n",
       "      <td>2016</td>\n",
       "      <td>False</td>\n",
       "      <td>...</td>\n",
       "      <td>False</td>\n",
       "      <td>False</td>\n",
       "      <td>False</td>\n",
       "      <td>False</td>\n",
       "      <td>False</td>\n",
       "      <td>False</td>\n",
       "      <td>False</td>\n",
       "      <td>False</td>\n",
       "      <td>False</td>\n",
       "      <td>False</td>\n",
       "    </tr>\n",
       "  </tbody>\n",
       "</table>\n",
       "<p>5 rows × 109 columns</p>\n",
       "</div>"
      ],
      "text/plain": [
       "   label                                            comment  score  ups  \\\n",
       "0      0                                         NC and NH.      2   -1   \n",
       "1      0  You do know west teams play against west teams...     -4   -1   \n",
       "2      0  They were underdogs earlier today, but since G...      3    3   \n",
       "3      0  This meme isn't funny none of the \"new york ni...     -8   -1   \n",
       "5      0  I don't pay attention to her, but as long as s...      0    0   \n",
       "\n",
       "   downs       date         created_utc  \\\n",
       "0     -1 2016-10-01 2016-10-16 23:55:23   \n",
       "1     -1 2016-11-01 2016-11-01 00:24:10   \n",
       "2      0 2016-09-01 2016-09-22 21:45:37   \n",
       "3     -1 2016-10-01 2016-10-18 21:03:47   \n",
       "5      0 2016-09-01 2016-09-02 10:35:08   \n",
       "\n",
       "                                      parent_comment  year  SUB_2007scape  \\\n",
       "0  Yeah, I get that argument. At this point, I'd ...  2016          False   \n",
       "1  The blazers and Mavericks (The wests 5 and 6 s...  2016          False   \n",
       "2                            They're favored to win.  2016          False   \n",
       "3                         deadass don't kill my buzz  2016          False   \n",
       "5                   do you find ariana grande sexy ?  2016          False   \n",
       "\n",
       "   ...  SUB_television  SUB_tf2  SUB_todayilearned  SUB_trees  SUB_ukpolitics  \\\n",
       "0  ...           False    False              False      False           False   \n",
       "1  ...           False    False              False      False           False   \n",
       "2  ...           False    False              False      False           False   \n",
       "3  ...           False    False              False      False           False   \n",
       "5  ...           False    False              False      False           False   \n",
       "\n",
       "   SUB_unitedkingdom  SUB_videos  SUB_worldnews  SUB_wow  SUB_xboxone  \n",
       "0              False       False          False    False        False  \n",
       "1              False       False          False    False        False  \n",
       "2              False       False          False    False        False  \n",
       "3              False       False          False    False        False  \n",
       "5              False       False          False    False        False  \n",
       "\n",
       "[5 rows x 109 columns]"
      ]
     },
     "execution_count": 79,
     "metadata": {},
     "output_type": "execute_result"
    }
   ],
   "source": [
    "df_new_2 = df_new_2.drop(columns=['subreddit'])\n",
    "df_new_2.head()"
   ]
  },
  {
   "cell_type": "markdown",
   "id": "069adc59",
   "metadata": {},
   "source": [
    "Let's create a new csv based on everything we will do so far"
   ]
  },
  {
   "cell_type": "code",
   "execution_count": 80,
   "id": "c184009d",
   "metadata": {},
   "outputs": [],
   "source": [
    "#df_new_2.to_csv('train-balanced-sarcasm_2.csv', index=False)"
   ]
  },
  {
   "cell_type": "code",
   "execution_count": null,
   "id": "846e7aed",
   "metadata": {},
   "outputs": [],
   "source": []
  }
 ],
 "metadata": {
  "kernelspec": {
   "display_name": "capstone",
   "language": "python",
   "name": "capstone"
  },
  "language_info": {
   "codemirror_mode": {
    "name": "ipython",
    "version": 3
   },
   "file_extension": ".py",
   "mimetype": "text/x-python",
   "name": "python",
   "nbconvert_exporter": "python",
   "pygments_lexer": "ipython3",
   "version": "3.8.18"
  }
 },
 "nbformat": 4,
 "nbformat_minor": 5
}
